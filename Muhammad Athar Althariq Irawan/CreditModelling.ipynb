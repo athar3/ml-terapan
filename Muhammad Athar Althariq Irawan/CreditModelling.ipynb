{
  "cells": [
    {
      "cell_type": "markdown",
      "metadata": {
        "id": "BnvTCG5-O_qY"
      },
      "source": [
        "# Credit Risk Modelling"
      ]
    },
    {
      "cell_type": "code",
      "execution_count": 1,
      "metadata": {},
      "outputs": [],
      "source": [
        "import pandas as pd\n",
        "import numpy as np\n",
        "import os\n",
        "\n",
        "import matplotlib.pyplot as plt\n",
        "import seaborn as sns\n",
        "import missingno as msno\n",
        "\n",
        "from sklearn.preprocessing import LabelEncoder\n",
        "from sklearn.model_selection import train_test_split\n",
        "from sklearn.pipeline import Pipeline\n",
        "from sklearn.compose import ColumnTransformer\n",
        "from sklearn.preprocessing import OneHotEncoder, StandardScaler\n",
        "from sklearn.impute import SimpleImputer\n",
        "\n",
        "# binary classification spot check script\n",
        "import warnings\n",
        "from numpy import mean\n",
        "from numpy import std\n",
        "from sklearn.model_selection import cross_val_score\n",
        "from sklearn.linear_model import LogisticRegression\n",
        "from sklearn.linear_model import RidgeClassifier\n",
        "from sklearn.linear_model import SGDClassifier\n",
        "from sklearn.linear_model import PassiveAggressiveClassifier\n",
        "from sklearn.neighbors import KNeighborsClassifier\n",
        "from sklearn.tree import DecisionTreeClassifier\n",
        "from sklearn.tree import ExtraTreeClassifier\n",
        "from sklearn.svm import SVC\n",
        "from sklearn.naive_bayes import GaussianNB\n",
        "from sklearn.ensemble import AdaBoostClassifier\n",
        "from sklearn.ensemble import BaggingClassifier\n",
        "from sklearn.ensemble import RandomForestClassifier\n",
        "from sklearn.ensemble import ExtraTreesClassifier\n",
        "from sklearn.ensemble import GradientBoostingClassifier\n",
        "from xgboost import XGBClassifier\n",
        "\n",
        "from sklearn.metrics import f1_score\n",
        "from sklearn.metrics import plot_confusion_matrix, recall_score, precision_score, f1_score\n",
        "from sklearn.metrics import classification_report\n",
        "\n"
      ]
    },
    {
      "cell_type": "markdown",
      "metadata": {
        "id": "1pL4SAFWPRnF"
      },
      "source": [
        "<h1>Load Dataset"
      ]
    },
    {
      "cell_type": "markdown",
      "metadata": {},
      "source": [
        "kita akan mengubah `.csv` menjadi file `.feather` dikarenakan file `.feather` dibaca lebih cepat ketimbang file `.csv`"
      ]
    },
    {
      "cell_type": "code",
      "execution_count": 2,
      "metadata": {
        "colab": {
          "base_uri": "https://localhost:8080/",
          "height": 0
        },
        "id": "U5pYMFjmPVDh",
        "outputId": "718f4968-757a-47ad-d3f9-472170ccdf44"
      },
      "outputs": [],
      "source": [
        "feather_filename = \"loan_data_2007_2014.feather\"\n",
        "if not os.path.exists(feather_filename):\n",
        "    # Baca melalui csv\n",
        "    df = pd.read_csv(\"loan_data_2007_2014.csv\")\n",
        "\n",
        "    # Ubah ke feather\n",
        "    df.to_feather(\"loan_data_2007_2014.feather\")\n",
        "    \n",
        "rawdf = pd.read_feather(feather_filename)"
      ]
    },
    {
      "cell_type": "code",
      "execution_count": 3,
      "metadata": {},
      "outputs": [
        {
          "data": {
            "text/html": [
              "<div>\n",
              "<style scoped>\n",
              "    .dataframe tbody tr th:only-of-type {\n",
              "        vertical-align: middle;\n",
              "    }\n",
              "\n",
              "    .dataframe tbody tr th {\n",
              "        vertical-align: top;\n",
              "    }\n",
              "\n",
              "    .dataframe thead th {\n",
              "        text-align: right;\n",
              "    }\n",
              "</style>\n",
              "<table border=\"1\" class=\"dataframe\">\n",
              "  <thead>\n",
              "    <tr style=\"text-align: right;\">\n",
              "      <th></th>\n",
              "      <th>Unnamed: 0</th>\n",
              "      <th>id</th>\n",
              "      <th>member_id</th>\n",
              "      <th>loan_amnt</th>\n",
              "      <th>funded_amnt</th>\n",
              "      <th>funded_amnt_inv</th>\n",
              "      <th>term</th>\n",
              "      <th>int_rate</th>\n",
              "      <th>installment</th>\n",
              "      <th>grade</th>\n",
              "      <th>...</th>\n",
              "      <th>total_bal_il</th>\n",
              "      <th>il_util</th>\n",
              "      <th>open_rv_12m</th>\n",
              "      <th>open_rv_24m</th>\n",
              "      <th>max_bal_bc</th>\n",
              "      <th>all_util</th>\n",
              "      <th>total_rev_hi_lim</th>\n",
              "      <th>inq_fi</th>\n",
              "      <th>total_cu_tl</th>\n",
              "      <th>inq_last_12m</th>\n",
              "    </tr>\n",
              "  </thead>\n",
              "  <tbody>\n",
              "    <tr>\n",
              "      <th>0</th>\n",
              "      <td>0</td>\n",
              "      <td>1077501</td>\n",
              "      <td>1296599</td>\n",
              "      <td>5000</td>\n",
              "      <td>5000</td>\n",
              "      <td>4975.0</td>\n",
              "      <td>36 months</td>\n",
              "      <td>10.65</td>\n",
              "      <td>162.87</td>\n",
              "      <td>B</td>\n",
              "      <td>...</td>\n",
              "      <td>NaN</td>\n",
              "      <td>NaN</td>\n",
              "      <td>NaN</td>\n",
              "      <td>NaN</td>\n",
              "      <td>NaN</td>\n",
              "      <td>NaN</td>\n",
              "      <td>NaN</td>\n",
              "      <td>NaN</td>\n",
              "      <td>NaN</td>\n",
              "      <td>NaN</td>\n",
              "    </tr>\n",
              "    <tr>\n",
              "      <th>1</th>\n",
              "      <td>1</td>\n",
              "      <td>1077430</td>\n",
              "      <td>1314167</td>\n",
              "      <td>2500</td>\n",
              "      <td>2500</td>\n",
              "      <td>2500.0</td>\n",
              "      <td>60 months</td>\n",
              "      <td>15.27</td>\n",
              "      <td>59.83</td>\n",
              "      <td>C</td>\n",
              "      <td>...</td>\n",
              "      <td>NaN</td>\n",
              "      <td>NaN</td>\n",
              "      <td>NaN</td>\n",
              "      <td>NaN</td>\n",
              "      <td>NaN</td>\n",
              "      <td>NaN</td>\n",
              "      <td>NaN</td>\n",
              "      <td>NaN</td>\n",
              "      <td>NaN</td>\n",
              "      <td>NaN</td>\n",
              "    </tr>\n",
              "    <tr>\n",
              "      <th>2</th>\n",
              "      <td>2</td>\n",
              "      <td>1077175</td>\n",
              "      <td>1313524</td>\n",
              "      <td>2400</td>\n",
              "      <td>2400</td>\n",
              "      <td>2400.0</td>\n",
              "      <td>36 months</td>\n",
              "      <td>15.96</td>\n",
              "      <td>84.33</td>\n",
              "      <td>C</td>\n",
              "      <td>...</td>\n",
              "      <td>NaN</td>\n",
              "      <td>NaN</td>\n",
              "      <td>NaN</td>\n",
              "      <td>NaN</td>\n",
              "      <td>NaN</td>\n",
              "      <td>NaN</td>\n",
              "      <td>NaN</td>\n",
              "      <td>NaN</td>\n",
              "      <td>NaN</td>\n",
              "      <td>NaN</td>\n",
              "    </tr>\n",
              "    <tr>\n",
              "      <th>3</th>\n",
              "      <td>3</td>\n",
              "      <td>1076863</td>\n",
              "      <td>1277178</td>\n",
              "      <td>10000</td>\n",
              "      <td>10000</td>\n",
              "      <td>10000.0</td>\n",
              "      <td>36 months</td>\n",
              "      <td>13.49</td>\n",
              "      <td>339.31</td>\n",
              "      <td>C</td>\n",
              "      <td>...</td>\n",
              "      <td>NaN</td>\n",
              "      <td>NaN</td>\n",
              "      <td>NaN</td>\n",
              "      <td>NaN</td>\n",
              "      <td>NaN</td>\n",
              "      <td>NaN</td>\n",
              "      <td>NaN</td>\n",
              "      <td>NaN</td>\n",
              "      <td>NaN</td>\n",
              "      <td>NaN</td>\n",
              "    </tr>\n",
              "    <tr>\n",
              "      <th>4</th>\n",
              "      <td>4</td>\n",
              "      <td>1075358</td>\n",
              "      <td>1311748</td>\n",
              "      <td>3000</td>\n",
              "      <td>3000</td>\n",
              "      <td>3000.0</td>\n",
              "      <td>60 months</td>\n",
              "      <td>12.69</td>\n",
              "      <td>67.79</td>\n",
              "      <td>B</td>\n",
              "      <td>...</td>\n",
              "      <td>NaN</td>\n",
              "      <td>NaN</td>\n",
              "      <td>NaN</td>\n",
              "      <td>NaN</td>\n",
              "      <td>NaN</td>\n",
              "      <td>NaN</td>\n",
              "      <td>NaN</td>\n",
              "      <td>NaN</td>\n",
              "      <td>NaN</td>\n",
              "      <td>NaN</td>\n",
              "    </tr>\n",
              "  </tbody>\n",
              "</table>\n",
              "<p>5 rows × 75 columns</p>\n",
              "</div>"
            ],
            "text/plain": [
              "   Unnamed: 0       id  member_id  loan_amnt  funded_amnt  funded_amnt_inv  \\\n",
              "0           0  1077501    1296599       5000         5000           4975.0   \n",
              "1           1  1077430    1314167       2500         2500           2500.0   \n",
              "2           2  1077175    1313524       2400         2400           2400.0   \n",
              "3           3  1076863    1277178      10000        10000          10000.0   \n",
              "4           4  1075358    1311748       3000         3000           3000.0   \n",
              "\n",
              "         term  int_rate  installment grade  ... total_bal_il il_util  \\\n",
              "0   36 months     10.65       162.87     B  ...          NaN     NaN   \n",
              "1   60 months     15.27        59.83     C  ...          NaN     NaN   \n",
              "2   36 months     15.96        84.33     C  ...          NaN     NaN   \n",
              "3   36 months     13.49       339.31     C  ...          NaN     NaN   \n",
              "4   60 months     12.69        67.79     B  ...          NaN     NaN   \n",
              "\n",
              "  open_rv_12m open_rv_24m  max_bal_bc all_util total_rev_hi_lim inq_fi  \\\n",
              "0         NaN         NaN         NaN      NaN              NaN    NaN   \n",
              "1         NaN         NaN         NaN      NaN              NaN    NaN   \n",
              "2         NaN         NaN         NaN      NaN              NaN    NaN   \n",
              "3         NaN         NaN         NaN      NaN              NaN    NaN   \n",
              "4         NaN         NaN         NaN      NaN              NaN    NaN   \n",
              "\n",
              "  total_cu_tl inq_last_12m  \n",
              "0         NaN          NaN  \n",
              "1         NaN          NaN  \n",
              "2         NaN          NaN  \n",
              "3         NaN          NaN  \n",
              "4         NaN          NaN  \n",
              "\n",
              "[5 rows x 75 columns]"
            ]
          },
          "execution_count": 3,
          "metadata": {},
          "output_type": "execute_result"
        }
      ],
      "source": [
        "rawdf.head()"
      ]
    },
    {
      "cell_type": "code",
      "execution_count": 4,
      "metadata": {
        "colab": {
          "base_uri": "https://localhost:8080/"
        },
        "id": "QKYQidvHPmxs",
        "outputId": "ab35c40c-af61-4732-d2ee-191de106934b"
      },
      "outputs": [
        {
          "name": "stdout",
          "output_type": "stream",
          "text": [
            "<class 'pandas.core.frame.DataFrame'>\n",
            "RangeIndex: 466285 entries, 0 to 466284\n",
            "Data columns (total 75 columns):\n",
            " #   Column                       Non-Null Count   Dtype  \n",
            "---  ------                       --------------   -----  \n",
            " 0   Unnamed: 0                   466285 non-null  int64  \n",
            " 1   id                           466285 non-null  int64  \n",
            " 2   member_id                    466285 non-null  int64  \n",
            " 3   loan_amnt                    466285 non-null  int64  \n",
            " 4   funded_amnt                  466285 non-null  int64  \n",
            " 5   funded_amnt_inv              466285 non-null  float64\n",
            " 6   term                         466285 non-null  object \n",
            " 7   int_rate                     466285 non-null  float64\n",
            " 8   installment                  466285 non-null  float64\n",
            " 9   grade                        466285 non-null  object \n",
            " 10  sub_grade                    466285 non-null  object \n",
            " 11  emp_title                    438697 non-null  object \n",
            " 12  emp_length                   445277 non-null  object \n",
            " 13  home_ownership               466285 non-null  object \n",
            " 14  annual_inc                   466281 non-null  float64\n",
            " 15  verification_status          466285 non-null  object \n",
            " 16  issue_d                      466285 non-null  object \n",
            " 17  loan_status                  466285 non-null  object \n",
            " 18  pymnt_plan                   466285 non-null  object \n",
            " 19  url                          466285 non-null  object \n",
            " 20  desc                         125983 non-null  object \n",
            " 21  purpose                      466285 non-null  object \n",
            " 22  title                        466265 non-null  object \n",
            " 23  zip_code                     466285 non-null  object \n",
            " 24  addr_state                   466285 non-null  object \n",
            " 25  dti                          466285 non-null  float64\n",
            " 26  delinq_2yrs                  466256 non-null  float64\n",
            " 27  earliest_cr_line             466256 non-null  object \n",
            " 28  inq_last_6mths               466256 non-null  float64\n",
            " 29  mths_since_last_delinq       215934 non-null  float64\n",
            " 30  mths_since_last_record       62638 non-null   float64\n",
            " 31  open_acc                     466256 non-null  float64\n",
            " 32  pub_rec                      466256 non-null  float64\n",
            " 33  revol_bal                    466285 non-null  int64  \n",
            " 34  revol_util                   465945 non-null  float64\n",
            " 35  total_acc                    466256 non-null  float64\n",
            " 36  initial_list_status          466285 non-null  object \n",
            " 37  out_prncp                    466285 non-null  float64\n",
            " 38  out_prncp_inv                466285 non-null  float64\n",
            " 39  total_pymnt                  466285 non-null  float64\n",
            " 40  total_pymnt_inv              466285 non-null  float64\n",
            " 41  total_rec_prncp              466285 non-null  float64\n",
            " 42  total_rec_int                466285 non-null  float64\n",
            " 43  total_rec_late_fee           466285 non-null  float64\n",
            " 44  recoveries                   466285 non-null  float64\n",
            " 45  collection_recovery_fee      466285 non-null  float64\n",
            " 46  last_pymnt_d                 465909 non-null  object \n",
            " 47  last_pymnt_amnt              466285 non-null  float64\n",
            " 48  next_pymnt_d                 239071 non-null  object \n",
            " 49  last_credit_pull_d           466243 non-null  object \n",
            " 50  collections_12_mths_ex_med   466140 non-null  float64\n",
            " 51  mths_since_last_major_derog  98974 non-null   float64\n",
            " 52  policy_code                  466285 non-null  int64  \n",
            " 53  application_type             466285 non-null  object \n",
            " 54  annual_inc_joint             0 non-null       float64\n",
            " 55  dti_joint                    0 non-null       float64\n",
            " 56  verification_status_joint    0 non-null       float64\n",
            " 57  acc_now_delinq               466256 non-null  float64\n",
            " 58  tot_coll_amt                 396009 non-null  float64\n",
            " 59  tot_cur_bal                  396009 non-null  float64\n",
            " 60  open_acc_6m                  0 non-null       float64\n",
            " 61  open_il_6m                   0 non-null       float64\n",
            " 62  open_il_12m                  0 non-null       float64\n",
            " 63  open_il_24m                  0 non-null       float64\n",
            " 64  mths_since_rcnt_il           0 non-null       float64\n",
            " 65  total_bal_il                 0 non-null       float64\n",
            " 66  il_util                      0 non-null       float64\n",
            " 67  open_rv_12m                  0 non-null       float64\n",
            " 68  open_rv_24m                  0 non-null       float64\n",
            " 69  max_bal_bc                   0 non-null       float64\n",
            " 70  all_util                     0 non-null       float64\n",
            " 71  total_rev_hi_lim             396009 non-null  float64\n",
            " 72  inq_fi                       0 non-null       float64\n",
            " 73  total_cu_tl                  0 non-null       float64\n",
            " 74  inq_last_12m                 0 non-null       float64\n",
            "dtypes: float64(46), int64(7), object(22)\n",
            "memory usage: 266.8+ MB\n"
          ]
        }
      ],
      "source": [
        "rawdf.info()"
      ]
    },
    {
      "cell_type": "code",
      "execution_count": 5,
      "metadata": {
        "colab": {
          "base_uri": "https://localhost:8080/"
        },
        "id": "exAYvREgOpzn",
        "outputId": "b305f5cf-28f3-4742-a154-763377b17f43"
      },
      "outputs": [
        {
          "data": {
            "text/plain": [
              "(466285, 75)"
            ]
          },
          "execution_count": 5,
          "metadata": {},
          "output_type": "execute_result"
        }
      ],
      "source": [
        "rawdf.shape"
      ]
    },
    {
      "cell_type": "code",
      "execution_count": 6,
      "metadata": {
        "colab": {
          "base_uri": "https://localhost:8080/"
        },
        "id": "5huURXzaPoLc",
        "outputId": "eca3f9e2-f3db-4c2b-8861-05e843b8def1"
      },
      "outputs": [
        {
          "name": "stdout",
          "output_type": "stream",
          "text": [
            "Jumlah duplikat = 0\n"
          ]
        }
      ],
      "source": [
        "#Cek duplikat\n",
        "duplicate_data = len(rawdf[rawdf.duplicated(keep=False)])\n",
        "print(f'Jumlah duplikat = {duplicate_data}')"
      ]
    },
    {
      "cell_type": "markdown",
      "metadata": {
        "id": "XR5T-TJlPsc_"
      },
      "source": [
        "1. terlihat bahwa data ada 466285 baris dan 75 kolom\n",
        "2. tidak ada duplikat"
      ]
    },
    {
      "cell_type": "code",
      "execution_count": 7,
      "metadata": {
        "colab": {
          "base_uri": "https://localhost:8080/"
        },
        "id": "b1N2AVzqPqi4",
        "outputId": "e0bea2ef-cfdd-4354-d564-24d9f0bc3343"
      },
      "outputs": [
        {
          "name": "stdout",
          "output_type": "stream",
          "text": [
            "Jumlah Kolom = 53\n"
          ]
        }
      ],
      "source": [
        "df = rawdf.copy()\n",
        "\n",
        "#membuang kolom yang tidak digunakan\n",
        "drop = [\n",
        "    'Unnamed: 0', 'id', 'member_id', 'annual_inc_joint', 'dti_joint', 'verification_status_joint', 'open_acc_6m',\n",
        "    'open_il_6m', 'open_il_12m', 'open_il_24m', 'mths_since_rcnt_il', 'total_bal_il', 'il_util', 'open_rv_12m',\n",
        "    'open_rv_24m', 'max_bal_bc', 'all_util', 'inq_fi', 'total_cu_tl', 'inq_last_12m', 'url', 'desc'\n",
        "]\n",
        "\n",
        "df.drop(drop, axis=1, inplace=True)\n",
        "\n",
        "print(f'Jumlah Kolom = {len(df.columns)}')"
      ]
    },
    {
      "cell_type": "markdown",
      "metadata": {
        "id": "bX0bkS_wP0r4"
      },
      "source": [
        "sekarang kita punya 53 kolom setelah membuang kolom yang tidak diperlukan"
      ]
    },
    {
      "cell_type": "markdown",
      "metadata": {
        "id": "pT18pePyP3l1"
      },
      "source": [
        "<h1> target variabel yang dicari"
      ]
    },
    {
      "cell_type": "code",
      "execution_count": 8,
      "metadata": {
        "colab": {
          "base_uri": "https://localhost:8080/"
        },
        "id": "OwhlxSXwP56u",
        "outputId": "ea3f8494-f9fd-43e7-ef95-57ceeba8e8d0"
      },
      "outputs": [
        {
          "data": {
            "text/plain": [
              "Current                                                224226\n",
              "Fully Paid                                             184739\n",
              "Charged Off                                             42475\n",
              "Late (31-120 days)                                       6900\n",
              "In Grace Period                                          3146\n",
              "Does not meet the credit policy. Status:Fully Paid       1988\n",
              "Late (16-30 days)                                        1218\n",
              "Default                                                   832\n",
              "Does not meet the credit policy. Status:Charged Off       761\n",
              "Name: loan_status, dtype: int64"
            ]
          },
          "execution_count": 8,
          "metadata": {},
          "output_type": "execute_result"
        }
      ],
      "source": [
        "df['loan_status'].value_counts()"
      ]
    },
    {
      "cell_type": "markdown",
      "metadata": {
        "id": "KACCHA-QP9bL"
      },
      "source": [
        "kita gunakan \"loan_status\" dikarenakan kita akan membuat model dari peminjaman jadi variabel ini sangat penting. kita akan membuat 2 kelas yaitu peminjaman yang baik dan buruk "
      ]
    },
    {
      "cell_type": "markdown",
      "metadata": {
        "id": "FkQ6eCr9P-qh"
      },
      "source": [
        "1. Current = Peminjam membayar tepat waktu = \"good_loan\"\n",
        "2. Fully Paid = Peminjam telah melunasi hutang = \"good_loan\"\n",
        "\n",
        "sedangkan sisanya akan menjadi \"bad_loan\""
      ]
    },
    {
      "cell_type": "code",
      "execution_count": 9,
      "metadata": {
        "id": "omfJ_W5PQAUo"
      },
      "outputs": [],
      "source": [
        "def loan_status_transform(data, col):\n",
        "    data[col] = data[col].str.replace('Late (31-120 days)', '1_bad_loan', regex=False)\n",
        "    data[col] = data[col].str.replace('Late (16-30 days)', '1_bad_loan', regex=False)\n",
        "    data[col] = data[col].str.replace('In Grace Period', '1_bad_loan', regex=False)\n",
        "    data[col] = data[col].str.replace('Does not meet the credit policy. Status:Fully Paid', '0_good_loan', regex=False)\n",
        "    data[col] = data[col].str.replace('Does not meet the credit policy. Status:Charged Off', '1_bad_loan', regex=False)\n",
        "    data[col] = data[col].str.replace('Current', '0_good_loan', regex=False)\n",
        "    data[col] = data[col].str.replace('Fully Paid', '0_good_loan', regex=False)\n",
        "    data[col] = data[col].str.replace('Charged Off', '1_bad_loan', regex=False)\n",
        "    data[col] = data[col].str.replace('Default', '1_bad_loan', regex=False)\n",
        "    return data[col]"
      ]
    },
    {
      "cell_type": "code",
      "execution_count": 10,
      "metadata": {
        "id": "i0b2Qc7iQCQU"
      },
      "outputs": [],
      "source": [
        "df['loan_status'] = loan_status_transform(df, 'loan_status')"
      ]
    },
    {
      "cell_type": "code",
      "execution_count": 11,
      "metadata": {
        "colab": {
          "base_uri": "https://localhost:8080/",
          "height": 336
        },
        "id": "Ir1qdCRxQD79",
        "outputId": "679adaef-b44a-41c4-9d5a-79a60de625d1"
      },
      "outputs": [
        {
          "data": {
            "image/png": "[encoded data removed]",
            "text/plain": [
              "<Figure size 504x360 with 1 Axes>"
            ]
          },
          "metadata": {
            "needs_background": "light"
          },
          "output_type": "display_data"
        }
      ],
      "source": [
        "plt.figure(figsize=(7,5))\n",
        "ax = sns.countplot(x='loan_status', data=df)\n",
        "plt.show()"
      ]
    },
    {
      "cell_type": "code",
      "execution_count": 12,
      "metadata": {
        "colab": {
          "base_uri": "https://localhost:8080/"
        },
        "id": "Z_E2LlC9QLlj",
        "outputId": "db1ed149-2ea9-4db9-88d3-be899fa038c6"
      },
      "outputs": [
        {
          "data": {
            "text/plain": [
              "0_good_loan    0.881334\n",
              "1_bad_loan     0.118666\n",
              "Name: loan_status, dtype: float64"
            ]
          },
          "execution_count": 12,
          "metadata": {},
          "output_type": "execute_result"
        }
      ],
      "source": [
        "df['loan_status'].value_counts(normalize=True)"
      ]
    },
    {
      "cell_type": "markdown",
      "metadata": {
        "id": "oWN9OAElQXkF"
      },
      "source": [
        "disini nilai akan dikali 100 untuk mendapatkan nilai dalam persen\n",
        "\n",
        "1. perusahaan memiliki 11.8% bad loan \n",
        "rangi presentase 11.8% tersebut?\n",
        "2. status_loan memiliki imbalance data, perlu dilakukan oversampling "
      ]
    },
    {
      "cell_type": "markdown",
      "metadata": {
        "id": "1gb14QRyQtjc"
      },
      "source": [
        "# Exploratory Data Analysis (EDA)"
      ]
    },
    {
      "cell_type": "code",
      "execution_count": 13,
      "metadata": {
        "id": "8W4DUyCnQxOK"
      },
      "outputs": [],
      "source": [
        "cat_df = df.select_dtypes(include='object')\n",
        "num_df = df.select_dtypes(exclude='object')"
      ]
    },
    {
      "cell_type": "code",
      "execution_count": 14,
      "metadata": {
        "colab": {
          "base_uri": "https://localhost:8080/",
          "height": 0
        },
        "id": "Z5a_AkaLQt_z",
        "outputId": "29eb8a25-cafa-449f-e9dc-a92a9c0e3acb"
      },
      "outputs": [
        {
          "data": {
            "text/html": [
              "<div>\n",
              "<style scoped>\n",
              "    .dataframe tbody tr th:only-of-type {\n",
              "        vertical-align: middle;\n",
              "    }\n",
              "\n",
              "    .dataframe tbody tr th {\n",
              "        vertical-align: top;\n",
              "    }\n",
              "\n",
              "    .dataframe thead th {\n",
              "        text-align: right;\n",
              "    }\n",
              "</style>\n",
              "<table border=\"1\" class=\"dataframe\">\n",
              "  <thead>\n",
              "    <tr style=\"text-align: right;\">\n",
              "      <th></th>\n",
              "      <th>loan_amnt</th>\n",
              "      <th>funded_amnt</th>\n",
              "      <th>funded_amnt_inv</th>\n",
              "      <th>term</th>\n",
              "      <th>int_rate</th>\n",
              "      <th>installment</th>\n",
              "      <th>grade</th>\n",
              "      <th>sub_grade</th>\n",
              "      <th>emp_title</th>\n",
              "      <th>emp_length</th>\n",
              "      <th>...</th>\n",
              "      <th>next_pymnt_d</th>\n",
              "      <th>last_credit_pull_d</th>\n",
              "      <th>collections_12_mths_ex_med</th>\n",
              "      <th>mths_since_last_major_derog</th>\n",
              "      <th>policy_code</th>\n",
              "      <th>application_type</th>\n",
              "      <th>acc_now_delinq</th>\n",
              "      <th>tot_coll_amt</th>\n",
              "      <th>tot_cur_bal</th>\n",
              "      <th>total_rev_hi_lim</th>\n",
              "    </tr>\n",
              "  </thead>\n",
              "  <tbody>\n",
              "    <tr>\n",
              "      <th>0</th>\n",
              "      <td>5000</td>\n",
              "      <td>5000</td>\n",
              "      <td>4975.0</td>\n",
              "      <td>36 months</td>\n",
              "      <td>10.65</td>\n",
              "      <td>162.87</td>\n",
              "      <td>B</td>\n",
              "      <td>B2</td>\n",
              "      <td>None</td>\n",
              "      <td>10+ years</td>\n",
              "      <td>...</td>\n",
              "      <td>None</td>\n",
              "      <td>Jan-16</td>\n",
              "      <td>0.0</td>\n",
              "      <td>NaN</td>\n",
              "      <td>1</td>\n",
              "      <td>INDIVIDUAL</td>\n",
              "      <td>0.0</td>\n",
              "      <td>NaN</td>\n",
              "      <td>NaN</td>\n",
              "      <td>NaN</td>\n",
              "    </tr>\n",
              "    <tr>\n",
              "      <th>1</th>\n",
              "      <td>2500</td>\n",
              "      <td>2500</td>\n",
              "      <td>2500.0</td>\n",
              "      <td>60 months</td>\n",
              "      <td>15.27</td>\n",
              "      <td>59.83</td>\n",
              "      <td>C</td>\n",
              "      <td>C4</td>\n",
              "      <td>Ryder</td>\n",
              "      <td>&lt; 1 year</td>\n",
              "      <td>...</td>\n",
              "      <td>None</td>\n",
              "      <td>Sep-13</td>\n",
              "      <td>0.0</td>\n",
              "      <td>NaN</td>\n",
              "      <td>1</td>\n",
              "      <td>INDIVIDUAL</td>\n",
              "      <td>0.0</td>\n",
              "      <td>NaN</td>\n",
              "      <td>NaN</td>\n",
              "      <td>NaN</td>\n",
              "    </tr>\n",
              "    <tr>\n",
              "      <th>2</th>\n",
              "      <td>2400</td>\n",
              "      <td>2400</td>\n",
              "      <td>2400.0</td>\n",
              "      <td>36 months</td>\n",
              "      <td>15.96</td>\n",
              "      <td>84.33</td>\n",
              "      <td>C</td>\n",
              "      <td>C5</td>\n",
              "      <td>None</td>\n",
              "      <td>10+ years</td>\n",
              "      <td>...</td>\n",
              "      <td>None</td>\n",
              "      <td>Jan-16</td>\n",
              "      <td>0.0</td>\n",
              "      <td>NaN</td>\n",
              "      <td>1</td>\n",
              "      <td>INDIVIDUAL</td>\n",
              "      <td>0.0</td>\n",
              "      <td>NaN</td>\n",
              "      <td>NaN</td>\n",
              "      <td>NaN</td>\n",
              "    </tr>\n",
              "    <tr>\n",
              "      <th>3</th>\n",
              "      <td>10000</td>\n",
              "      <td>10000</td>\n",
              "      <td>10000.0</td>\n",
              "      <td>36 months</td>\n",
              "      <td>13.49</td>\n",
              "      <td>339.31</td>\n",
              "      <td>C</td>\n",
              "      <td>C1</td>\n",
              "      <td>AIR RESOURCES BOARD</td>\n",
              "      <td>10+ years</td>\n",
              "      <td>...</td>\n",
              "      <td>None</td>\n",
              "      <td>Jan-15</td>\n",
              "      <td>0.0</td>\n",
              "      <td>NaN</td>\n",
              "      <td>1</td>\n",
              "      <td>INDIVIDUAL</td>\n",
              "      <td>0.0</td>\n",
              "      <td>NaN</td>\n",
              "      <td>NaN</td>\n",
              "      <td>NaN</td>\n",
              "    </tr>\n",
              "    <tr>\n",
              "      <th>4</th>\n",
              "      <td>3000</td>\n",
              "      <td>3000</td>\n",
              "      <td>3000.0</td>\n",
              "      <td>60 months</td>\n",
              "      <td>12.69</td>\n",
              "      <td>67.79</td>\n",
              "      <td>B</td>\n",
              "      <td>B5</td>\n",
              "      <td>University Medical Group</td>\n",
              "      <td>1 year</td>\n",
              "      <td>...</td>\n",
              "      <td>Feb-16</td>\n",
              "      <td>Jan-16</td>\n",
              "      <td>0.0</td>\n",
              "      <td>NaN</td>\n",
              "      <td>1</td>\n",
              "      <td>INDIVIDUAL</td>\n",
              "      <td>0.0</td>\n",
              "      <td>NaN</td>\n",
              "      <td>NaN</td>\n",
              "      <td>NaN</td>\n",
              "    </tr>\n",
              "  </tbody>\n",
              "</table>\n",
              "<p>5 rows × 53 columns</p>\n",
              "</div>"
            ],
            "text/plain": [
              "   loan_amnt  funded_amnt  funded_amnt_inv        term  int_rate  installment  \\\n",
              "0       5000         5000           4975.0   36 months     10.65       162.87   \n",
              "1       2500         2500           2500.0   60 months     15.27        59.83   \n",
              "2       2400         2400           2400.0   36 months     15.96        84.33   \n",
              "3      10000        10000          10000.0   36 months     13.49       339.31   \n",
              "4       3000         3000           3000.0   60 months     12.69        67.79   \n",
              "\n",
              "  grade sub_grade                 emp_title emp_length  ... next_pymnt_d  \\\n",
              "0     B        B2                      None  10+ years  ...         None   \n",
              "1     C        C4                     Ryder   < 1 year  ...         None   \n",
              "2     C        C5                      None  10+ years  ...         None   \n",
              "3     C        C1       AIR RESOURCES BOARD  10+ years  ...         None   \n",
              "4     B        B5  University Medical Group     1 year  ...       Feb-16   \n",
              "\n",
              "   last_credit_pull_d collections_12_mths_ex_med mths_since_last_major_derog  \\\n",
              "0              Jan-16                        0.0                         NaN   \n",
              "1              Sep-13                        0.0                         NaN   \n",
              "2              Jan-16                        0.0                         NaN   \n",
              "3              Jan-15                        0.0                         NaN   \n",
              "4              Jan-16                        0.0                         NaN   \n",
              "\n",
              "  policy_code application_type acc_now_delinq tot_coll_amt tot_cur_bal  \\\n",
              "0           1       INDIVIDUAL            0.0          NaN         NaN   \n",
              "1           1       INDIVIDUAL            0.0          NaN         NaN   \n",
              "2           1       INDIVIDUAL            0.0          NaN         NaN   \n",
              "3           1       INDIVIDUAL            0.0          NaN         NaN   \n",
              "4           1       INDIVIDUAL            0.0          NaN         NaN   \n",
              "\n",
              "  total_rev_hi_lim  \n",
              "0              NaN  \n",
              "1              NaN  \n",
              "2              NaN  \n",
              "3              NaN  \n",
              "4              NaN  \n",
              "\n",
              "[5 rows x 53 columns]"
            ]
          },
          "execution_count": 14,
          "metadata": {},
          "output_type": "execute_result"
        }
      ],
      "source": [
        "df.head()"
      ]
    },
    {
      "cell_type": "markdown",
      "metadata": {
        "id": "3YwYLDeOQ0Fg"
      },
      "source": [
        "## Kategorikal"
      ]
    },
    {
      "cell_type": "code",
      "execution_count": 15,
      "metadata": {
        "colab": {
          "base_uri": "https://localhost:8080/"
        },
        "id": "4UE3DQ-GQ2Fm",
        "outputId": "04f65b5d-7c43-43cb-e944-14c3cf0898e6"
      },
      "outputs": [
        {
          "data": {
            "text/plain": [
              "term                   0.000000\n",
              "grade                  0.000000\n",
              "sub_grade              0.000000\n",
              "emp_title              0.059166\n",
              "emp_length             0.045054\n",
              "home_ownership         0.000000\n",
              "verification_status    0.000000\n",
              "issue_d                0.000000\n",
              "loan_status            0.000000\n",
              "pymnt_plan             0.000000\n",
              "purpose                0.000000\n",
              "title                  0.000043\n",
              "zip_code               0.000000\n",
              "addr_state             0.000000\n",
              "earliest_cr_line       0.000062\n",
              "initial_list_status    0.000000\n",
              "last_pymnt_d           0.000806\n",
              "next_pymnt_d           0.487286\n",
              "last_credit_pull_d     0.000090\n",
              "application_type       0.000000\n",
              "dtype: float64"
            ]
          },
          "execution_count": 15,
          "metadata": {},
          "output_type": "execute_result"
        }
      ],
      "source": [
        "cat_df.isnull().mean()"
      ]
    },
    {
      "cell_type": "markdown",
      "metadata": {
        "id": "cN4NGmvLQ8Ko"
      },
      "source": [
        "Ada 0.487286 atau sekitar 48% missing values pada kolom \"next_pymnt_d\" maka kolom perlu dibuang"
      ]
    },
    {
      "cell_type": "code",
      "execution_count": 16,
      "metadata": {
        "colab": {
          "base_uri": "https://localhost:8080/"
        },
        "id": "CPTkLKTLQ-Ox",
        "outputId": "bd8a684e-e736-49ff-aca0-b107d6f49187"
      },
      "outputs": [
        {
          "data": {
            "text/plain": [
              "Index(['term', 'grade', 'sub_grade', 'emp_title', 'emp_length',\n",
              "       'home_ownership', 'verification_status', 'issue_d', 'loan_status',\n",
              "       'pymnt_plan', 'purpose', 'title', 'zip_code', 'addr_state',\n",
              "       'earliest_cr_line', 'initial_list_status', 'last_pymnt_d',\n",
              "       'next_pymnt_d', 'last_credit_pull_d', 'application_type'],\n",
              "      dtype='object')"
            ]
          },
          "execution_count": 16,
          "metadata": {},
          "output_type": "execute_result"
        }
      ],
      "source": [
        "cat_df.columns"
      ]
    },
    {
      "cell_type": "code",
      "execution_count": 17,
      "metadata": {
        "colab": {
          "base_uri": "https://localhost:8080/",
          "height": 0
        },
        "id": "0lCOPW7DQ8l3",
        "outputId": "01f83277-588a-492c-d3d4-68ad0ab29c38"
      },
      "outputs": [
        {
          "data": {
            "text/html": [
              "<div>\n",
              "<style scoped>\n",
              "    .dataframe tbody tr th:only-of-type {\n",
              "        vertical-align: middle;\n",
              "    }\n",
              "\n",
              "    .dataframe tbody tr th {\n",
              "        vertical-align: top;\n",
              "    }\n",
              "\n",
              "    .dataframe thead th {\n",
              "        text-align: right;\n",
              "    }\n",
              "</style>\n",
              "<table border=\"1\" class=\"dataframe\">\n",
              "  <thead>\n",
              "    <tr style=\"text-align: right;\">\n",
              "      <th></th>\n",
              "      <th>term</th>\n",
              "      <th>grade</th>\n",
              "      <th>sub_grade</th>\n",
              "      <th>emp_title</th>\n",
              "      <th>emp_length</th>\n",
              "      <th>home_ownership</th>\n",
              "      <th>verification_status</th>\n",
              "      <th>issue_d</th>\n",
              "      <th>loan_status</th>\n",
              "      <th>pymnt_plan</th>\n",
              "      <th>purpose</th>\n",
              "      <th>title</th>\n",
              "      <th>zip_code</th>\n",
              "      <th>addr_state</th>\n",
              "      <th>earliest_cr_line</th>\n",
              "      <th>initial_list_status</th>\n",
              "      <th>last_pymnt_d</th>\n",
              "      <th>next_pymnt_d</th>\n",
              "      <th>last_credit_pull_d</th>\n",
              "      <th>application_type</th>\n",
              "    </tr>\n",
              "  </thead>\n",
              "  <tbody>\n",
              "    <tr>\n",
              "      <th>0</th>\n",
              "      <td>36 months</td>\n",
              "      <td>B</td>\n",
              "      <td>B2</td>\n",
              "      <td>None</td>\n",
              "      <td>10+ years</td>\n",
              "      <td>RENT</td>\n",
              "      <td>Verified</td>\n",
              "      <td>Dec-11</td>\n",
              "      <td>0_good_loan</td>\n",
              "      <td>n</td>\n",
              "      <td>credit_card</td>\n",
              "      <td>Computer</td>\n",
              "      <td>860xx</td>\n",
              "      <td>AZ</td>\n",
              "      <td>Jan-85</td>\n",
              "      <td>f</td>\n",
              "      <td>Jan-15</td>\n",
              "      <td>None</td>\n",
              "      <td>Jan-16</td>\n",
              "      <td>INDIVIDUAL</td>\n",
              "    </tr>\n",
              "    <tr>\n",
              "      <th>1</th>\n",
              "      <td>60 months</td>\n",
              "      <td>C</td>\n",
              "      <td>C4</td>\n",
              "      <td>Ryder</td>\n",
              "      <td>&lt; 1 year</td>\n",
              "      <td>RENT</td>\n",
              "      <td>Source Verified</td>\n",
              "      <td>Dec-11</td>\n",
              "      <td>1_bad_loan</td>\n",
              "      <td>n</td>\n",
              "      <td>car</td>\n",
              "      <td>bike</td>\n",
              "      <td>309xx</td>\n",
              "      <td>GA</td>\n",
              "      <td>Apr-99</td>\n",
              "      <td>f</td>\n",
              "      <td>Apr-13</td>\n",
              "      <td>None</td>\n",
              "      <td>Sep-13</td>\n",
              "      <td>INDIVIDUAL</td>\n",
              "    </tr>\n",
              "    <tr>\n",
              "      <th>2</th>\n",
              "      <td>36 months</td>\n",
              "      <td>C</td>\n",
              "      <td>C5</td>\n",
              "      <td>None</td>\n",
              "      <td>10+ years</td>\n",
              "      <td>RENT</td>\n",
              "      <td>Not Verified</td>\n",
              "      <td>Dec-11</td>\n",
              "      <td>0_good_loan</td>\n",
              "      <td>n</td>\n",
              "      <td>small_business</td>\n",
              "      <td>real estate business</td>\n",
              "      <td>606xx</td>\n",
              "      <td>IL</td>\n",
              "      <td>Nov-01</td>\n",
              "      <td>f</td>\n",
              "      <td>Jun-14</td>\n",
              "      <td>None</td>\n",
              "      <td>Jan-16</td>\n",
              "      <td>INDIVIDUAL</td>\n",
              "    </tr>\n",
              "    <tr>\n",
              "      <th>3</th>\n",
              "      <td>36 months</td>\n",
              "      <td>C</td>\n",
              "      <td>C1</td>\n",
              "      <td>AIR RESOURCES BOARD</td>\n",
              "      <td>10+ years</td>\n",
              "      <td>RENT</td>\n",
              "      <td>Source Verified</td>\n",
              "      <td>Dec-11</td>\n",
              "      <td>0_good_loan</td>\n",
              "      <td>n</td>\n",
              "      <td>other</td>\n",
              "      <td>personel</td>\n",
              "      <td>917xx</td>\n",
              "      <td>CA</td>\n",
              "      <td>Feb-96</td>\n",
              "      <td>f</td>\n",
              "      <td>Jan-15</td>\n",
              "      <td>None</td>\n",
              "      <td>Jan-15</td>\n",
              "      <td>INDIVIDUAL</td>\n",
              "    </tr>\n",
              "    <tr>\n",
              "      <th>4</th>\n",
              "      <td>60 months</td>\n",
              "      <td>B</td>\n",
              "      <td>B5</td>\n",
              "      <td>University Medical Group</td>\n",
              "      <td>1 year</td>\n",
              "      <td>RENT</td>\n",
              "      <td>Source Verified</td>\n",
              "      <td>Dec-11</td>\n",
              "      <td>0_good_loan</td>\n",
              "      <td>n</td>\n",
              "      <td>other</td>\n",
              "      <td>Personal</td>\n",
              "      <td>972xx</td>\n",
              "      <td>OR</td>\n",
              "      <td>Jan-96</td>\n",
              "      <td>f</td>\n",
              "      <td>Jan-16</td>\n",
              "      <td>Feb-16</td>\n",
              "      <td>Jan-16</td>\n",
              "      <td>INDIVIDUAL</td>\n",
              "    </tr>\n",
              "  </tbody>\n",
              "</table>\n",
              "</div>"
            ],
            "text/plain": [
              "         term grade sub_grade                 emp_title emp_length  \\\n",
              "0   36 months     B        B2                      None  10+ years   \n",
              "1   60 months     C        C4                     Ryder   < 1 year   \n",
              "2   36 months     C        C5                      None  10+ years   \n",
              "3   36 months     C        C1       AIR RESOURCES BOARD  10+ years   \n",
              "4   60 months     B        B5  University Medical Group     1 year   \n",
              "\n",
              "  home_ownership verification_status issue_d  loan_status pymnt_plan  \\\n",
              "0           RENT            Verified  Dec-11  0_good_loan          n   \n",
              "1           RENT     Source Verified  Dec-11   1_bad_loan          n   \n",
              "2           RENT        Not Verified  Dec-11  0_good_loan          n   \n",
              "3           RENT     Source Verified  Dec-11  0_good_loan          n   \n",
              "4           RENT     Source Verified  Dec-11  0_good_loan          n   \n",
              "\n",
              "          purpose                 title zip_code addr_state earliest_cr_line  \\\n",
              "0     credit_card              Computer    860xx         AZ           Jan-85   \n",
              "1             car                  bike    309xx         GA           Apr-99   \n",
              "2  small_business  real estate business    606xx         IL           Nov-01   \n",
              "3           other              personel    917xx         CA           Feb-96   \n",
              "4           other              Personal    972xx         OR           Jan-96   \n",
              "\n",
              "  initial_list_status last_pymnt_d next_pymnt_d last_credit_pull_d  \\\n",
              "0                   f       Jan-15         None             Jan-16   \n",
              "1                   f       Apr-13         None             Sep-13   \n",
              "2                   f       Jun-14         None             Jan-16   \n",
              "3                   f       Jan-15         None             Jan-15   \n",
              "4                   f       Jan-16       Feb-16             Jan-16   \n",
              "\n",
              "  application_type  \n",
              "0       INDIVIDUAL  \n",
              "1       INDIVIDUAL  \n",
              "2       INDIVIDUAL  \n",
              "3       INDIVIDUAL  \n",
              "4       INDIVIDUAL  "
            ]
          },
          "execution_count": 17,
          "metadata": {},
          "output_type": "execute_result"
        }
      ],
      "source": [
        "cat_df.head()"
      ]
    },
    {
      "cell_type": "markdown",
      "metadata": {
        "id": "lDtYk8g1RCQP"
      },
      "source": [
        "### term"
      ]
    },
    {
      "cell_type": "code",
      "execution_count": 18,
      "metadata": {
        "colab": {
          "base_uri": "https://localhost:8080/",
          "height": 0
        },
        "id": "MmP9uTOURFSs",
        "outputId": "faff2284-2d88-4969-bc8c-81e552336957"
      },
      "outputs": [
        {
          "data": {
            "image/png": "[encoded data removed]",
            "text/plain": [
              "<Figure size 504x360 with 1 Axes>"
            ]
          },
          "metadata": {
            "needs_background": "light"
          },
          "output_type": "display_data"
        }
      ],
      "source": [
        "plt.figure(figsize=(7,5))\n",
        "ax = sns.countplot(x='term', data=df, hue='loan_status')\n",
        "plt.show()"
      ]
    },
    {
      "cell_type": "code",
      "execution_count": 19,
      "metadata": {
        "colab": {
          "base_uri": "https://localhost:8080/"
        },
        "id": "9H_ikFqTRGzH",
        "outputId": "bb1fd1bb-ac64-4c11-8645-60565392da46"
      },
      "outputs": [
        {
          "name": "stdout",
          "output_type": "stream",
          "text": [
            "Term 36 = 10.43% bad loan\n",
            "Term 60 = 15.41% bad loan\n"
          ]
        }
      ],
      "source": [
        "term36 = 35558/(35558+305395)*100\n",
        "term60 = 19774/(19774+108558)*100\n",
        "print(f'Term 36 = {round(term36, 2)}% bad loan')\n",
        "print(f'Term 60 = {round(term60, 2)}% bad loan')"
      ]
    },
    {
      "cell_type": "markdown",
      "metadata": {
        "id": "Lmfk9hu4RLNJ"
      },
      "source": [
        "### grade"
      ]
    },
    {
      "cell_type": "code",
      "execution_count": 20,
      "metadata": {
        "colab": {
          "base_uri": "https://localhost:8080/",
          "height": 0
        },
        "id": "A71qqhe4RS-s",
        "outputId": "8fbef5ba-ff3e-42db-d4c4-4466072763b8"
      },
      "outputs": [
        {
          "data": {
            "image/png": "[encoded data removed]",
            "text/plain": [
              "<Figure size 504x360 with 1 Axes>"
            ]
          },
          "metadata": {
            "needs_background": "light"
          },
          "output_type": "display_data"
        }
      ],
      "source": [
        "plt.figure(figsize=(7,5))\n",
        "sns.countplot(x='grade', data=df.sort_values('grade'), hue='loan_status')\n",
        "plt.show()"
      ]
    },
    {
      "cell_type": "markdown",
      "metadata": {
        "id": "7y4YQd2eRVuR"
      },
      "source": [
        "Grade ini ialah resiko yang dibuat oleh perusahaan, semakin ke kanan atau ke arah G maka resiko peminjaman semakin besar"
      ]
    },
    {
      "cell_type": "markdown",
      "metadata": {
        "id": "Zv7wGXQuRfpE"
      },
      "source": [
        "### emp_title"
      ]
    },
    {
      "cell_type": "code",
      "execution_count": 21,
      "metadata": {
        "colab": {
          "base_uri": "https://localhost:8080/"
        },
        "id": "FWTOVSgXRgEl",
        "outputId": "8ecddb28-6816-46b8-e4e7-f4a157bb0598"
      },
      "outputs": [
        {
          "data": {
            "text/plain": [
              "Teacher             5399\n",
              "Manager             4438\n",
              "Registered Nurse    2316\n",
              "RN                  2204\n",
              "Supervisor          1967\n",
              "Project Manager     1624\n",
              "Sales               1624\n",
              "Owner               1527\n",
              "Office Manager      1395\n",
              "manager             1312\n",
              "Name: emp_title, dtype: int64"
            ]
          },
          "execution_count": 21,
          "metadata": {},
          "output_type": "execute_result"
        }
      ],
      "source": [
        "df['emp_title'].value_counts()[:10]"
      ]
    },
    {
      "cell_type": "code",
      "execution_count": 22,
      "metadata": {
        "id": "vYTJC2vFRjPV"
      },
      "outputs": [],
      "source": [
        "df['emp_title'] = df['emp_title'].str.lower()"
      ]
    },
    {
      "cell_type": "code",
      "execution_count": 23,
      "metadata": {
        "colab": {
          "base_uri": "https://localhost:8080/",
          "height": 0
        },
        "id": "05WA8VH-Rmy6",
        "outputId": "5dce8d20-986c-4309-c309-625eba3fde44"
      },
      "outputs": [
        {
          "data": {
            "image/png": "[encoded data removed]",
            "text/plain": [
              "<Figure size 504x360 with 1 Axes>"
            ]
          },
          "metadata": {
            "needs_background": "light"
          },
          "output_type": "display_data"
        }
      ],
      "source": [
        "plt.figure(figsize=(7,5))\n",
        "sns.countplot(y='emp_title', data=df, order=df['emp_title'].value_counts()[:15].index, hue='loan_status')\n",
        "plt.show()"
      ]
    },
    {
      "cell_type": "markdown",
      "metadata": {
        "id": "RJFte5NwRrMr"
      },
      "source": [
        "disini dapat kita lihat bahwa walaupun peminjam terbanyak berasal dari kalangan guru, tetapi bad loan terbesar datang dari manajer, jadi manajer memiliki resiko menjadi peminjam terburuk terbesar disini"
      ]
    },
    {
      "cell_type": "markdown",
      "metadata": {
        "id": "K15n6V4mRtj4"
      },
      "source": [
        "### emp_length"
      ]
    },
    {
      "cell_type": "code",
      "execution_count": 24,
      "metadata": {
        "colab": {
          "base_uri": "https://localhost:8080/"
        },
        "id": "93FK--F7Rt_w",
        "outputId": "50b3794a-e07c-4a9d-a2f5-8d1629aad0e4"
      },
      "outputs": [
        {
          "data": {
            "text/plain": [
              "10+ years    150049\n",
              "2 years       41373\n",
              "3 years       36596\n",
              "< 1 year      36265\n",
              "5 years       30774\n",
              "1 year        29622\n",
              "4 years       28023\n",
              "7 years       26180\n",
              "6 years       26112\n",
              "8 years       22395\n",
              "9 years       17888\n",
              "Name: emp_length, dtype: int64"
            ]
          },
          "execution_count": 24,
          "metadata": {},
          "output_type": "execute_result"
        }
      ],
      "source": [
        "df['emp_length'].value_counts()"
      ]
    },
    {
      "cell_type": "code",
      "execution_count": 25,
      "metadata": {
        "colab": {
          "base_uri": "https://localhost:8080/",
          "height": 0
        },
        "id": "5_HkgkmgRw6I",
        "outputId": "3dfd8c42-aa5e-42ac-c57e-8df9f9dd7fe9"
      },
      "outputs": [
        {
          "data": {
            "image/png": "[encoded data removed]",
            "text/plain": [
              "<Figure size 504x360 with 1 Axes>"
            ]
          },
          "metadata": {
            "needs_background": "light"
          },
          "output_type": "display_data"
        }
      ],
      "source": [
        "plt.figure(figsize=(7,5))\n",
        "sns.countplot(y='emp_length', data=df, hue='loan_status')\n",
        "plt.show()"
      ]
    },
    {
      "cell_type": "markdown",
      "metadata": {
        "id": "aaiCNyPWR6dY"
      },
      "source": [
        "### home_ownership"
      ]
    },
    {
      "cell_type": "code",
      "execution_count": 26,
      "metadata": {
        "colab": {
          "base_uri": "https://localhost:8080/"
        },
        "id": "m2plv1RCR80Z",
        "outputId": "d4578bcb-0336-4d47-86d9-909df49531bb"
      },
      "outputs": [
        {
          "data": {
            "text/plain": [
              "MORTGAGE    0.505860\n",
              "RENT        0.404201\n",
              "OWN         0.089439\n",
              "OTHER       0.000390\n",
              "NONE        0.000107\n",
              "ANY         0.000002\n",
              "Name: home_ownership, dtype: float64"
            ]
          },
          "execution_count": 26,
          "metadata": {},
          "output_type": "execute_result"
        }
      ],
      "source": [
        "df['home_ownership'].value_counts(normalize=True)"
      ]
    },
    {
      "cell_type": "markdown",
      "metadata": {
        "id": "5kxRw-DySAdo"
      },
      "source": [
        "hanya 8,9% dari peminjam yang memiliki rumah sendiri\n",
        "\n",
        "kita akan menggabungkan kategori selain mortgage, rent dan own sebagai other untuk mengurangi overfit"
      ]
    },
    {
      "cell_type": "code",
      "execution_count": 27,
      "metadata": {
        "id": "iqX-DlomSBvR"
      },
      "outputs": [],
      "source": [
        "def transform_home_ownership(data=df['home_ownership']):\n",
        "    data = data.str.replace('NONE', 'OTHER')\n",
        "    data = data.str.replace('ANY', 'OTHER')\n",
        "    return data"
      ]
    },
    {
      "cell_type": "code",
      "execution_count": 28,
      "metadata": {
        "colab": {
          "base_uri": "https://localhost:8080/"
        },
        "id": "5e4P1BexSDUB",
        "outputId": "4a9ad6bc-e8be-462f-b255-856de672e48e"
      },
      "outputs": [
        {
          "data": {
            "text/plain": [
              "MORTGAGE    235875\n",
              "RENT        188473\n",
              "OWN          41704\n",
              "OTHER          233\n",
              "Name: home_ownership, dtype: int64"
            ]
          },
          "execution_count": 28,
          "metadata": {},
          "output_type": "execute_result"
        }
      ],
      "source": [
        "df['home_ownership'] = transform_home_ownership()\n",
        "df['home_ownership'].value_counts()"
      ]
    },
    {
      "cell_type": "code",
      "execution_count": 29,
      "metadata": {
        "colab": {
          "base_uri": "https://localhost:8080/",
          "height": 0
        },
        "id": "TVu98RobSEUX",
        "outputId": "107c94f2-2576-41cd-ce68-27347274d068"
      },
      "outputs": [
        {
          "data": {
            "image/png": "[encoded data removed]",
            "text/plain": [
              "<Figure size 504x360 with 1 Axes>"
            ]
          },
          "metadata": {
            "needs_background": "light"
          },
          "output_type": "display_data"
        }
      ],
      "source": [
        "plt.figure(figsize=(7,5))\n",
        "sns.countplot(x='home_ownership', data=df, hue='loan_status')\n",
        "plt.show()"
      ]
    },
    {
      "cell_type": "markdown",
      "metadata": {},
      "source": [
        "bahkan setelah digabungkan, other tetap menjadi nilai yang paling minoritas di data ini"
      ]
    },
    {
      "cell_type": "code",
      "execution_count": 30,
      "metadata": {
        "colab": {
          "base_uri": "https://localhost:8080/"
        },
        "id": "i8oSeNuVSMkb",
        "outputId": "0cbd0d72-234a-4c68-828d-a09a9236f0bf"
      },
      "outputs": [
        {
          "data": {
            "text/plain": [
              "home_ownership  loan_status\n",
              "MORTGAGE        0_good_loan    211167\n",
              "                1_bad_loan      24708\n",
              "OTHER           0_good_loan       187\n",
              "                1_bad_loan         46\n",
              "OWN             0_good_loan     36752\n",
              "                1_bad_loan       4952\n",
              "RENT            0_good_loan    162847\n",
              "                1_bad_loan      25626\n",
              "dtype: int64"
            ]
          },
          "execution_count": 30,
          "metadata": {},
          "output_type": "execute_result"
        }
      ],
      "source": [
        "df.groupby(['home_ownership', 'loan_status']).size()"
      ]
    },
    {
      "cell_type": "code",
      "execution_count": 31,
      "metadata": {
        "colab": {
          "base_uri": "https://localhost:8080/"
        },
        "id": "iPtSwc_nSF7h",
        "outputId": "18e08093-9fe8-4b19-d988-d00ba72bffc2"
      },
      "outputs": [
        {
          "name": "stdout",
          "output_type": "stream",
          "text": [
            "Pinjaman Buruk Mortgage = 10.48%\n",
            "Pinjaman Buruk Other = 19.74%\n",
            "Pinjaman Buruk Own = 11.87%\n",
            "Pinjaman Buruk Rent = 13.6%\n"
          ]
        }
      ],
      "source": [
        "mortgage = 24708/(24708+211167)*100\n",
        "other = 46/(46+187)*100\n",
        "own = 4952/(4952+36752)*100\n",
        "rent = 25626/(25626+162847)*100\n",
        "\n",
        "print(f'Pinjaman Buruk Mortgage = {round(mortgage, 2)}%')\n",
        "print(f'Pinjaman Buruk Other = {round(other, 2)}%')\n",
        "print(f'Pinjaman Buruk Own = {round(own, 2)}%')\n",
        "print(f'Pinjaman Buruk Rent = {round(rent, 2)}%')"
      ]
    },
    {
      "cell_type": "markdown",
      "metadata": {},
      "source": [
        "meskipun begitu, persentase peminjam terburuk datang dari other yang berisi other, none dan any"
      ]
    },
    {
      "cell_type": "markdown",
      "metadata": {
        "id": "J3V1kJZcSVO_"
      },
      "source": [
        "### issue_d"
      ]
    },
    {
      "cell_type": "code",
      "execution_count": 32,
      "metadata": {
        "colab": {
          "base_uri": "https://localhost:8080/"
        },
        "id": "eHf1M-ttSXZj",
        "outputId": "49d98f09-6dfc-4ef1-ae19-de9a6b4edfcd"
      },
      "outputs": [
        {
          "data": {
            "text/plain": [
              "0    2011-12\n",
              "1    2011-12\n",
              "2    2011-12\n",
              "3    2011-12\n",
              "4    2011-12\n",
              "Name: issue_d, dtype: period[M]"
            ]
          },
          "execution_count": 32,
          "metadata": {},
          "output_type": "execute_result"
        }
      ],
      "source": [
        "#Format tanggal ke tipe date\n",
        "df['issue_d'] = pd.to_datetime(df['issue_d'], format='%b-%y').dt.to_period('M')\n",
        "df['issue_d'][:5]"
      ]
    },
    {
      "cell_type": "code",
      "execution_count": 33,
      "metadata": {
        "colab": {
          "base_uri": "https://localhost:8080/",
          "height": 0
        },
        "id": "26qFGDa4SYS_",
        "outputId": "91217727-8ae4-433f-902f-ff92f9396fb7"
      },
      "outputs": [
        {
          "data": {
            "image/png": "[encoded data removed]",
            "text/plain": [
              "<Figure size 576x360 with 1 Axes>"
            ]
          },
          "metadata": {
            "needs_background": "light"
          },
          "output_type": "display_data"
        }
      ],
      "source": [
        "date_data = df.groupby(['loan_status', 'issue_d']).size().reset_index().pivot(index='issue_d', columns='loan_status', values=0)\n",
        "date_data.plot(kind='line', figsize=(8,5))\n",
        "plt.show()"
      ]
    },
    {
      "cell_type": "markdown",
      "metadata": {
        "id": "uIlOZM1PSay0"
      },
      "source": [
        "kenaikan jumlah peminjaman terjadi pada tahun 12 lalu meningkat pesat tetapi grafik peminjam buruk tidak dan hanya naik sedikit, dapat kita kira bahwasanya perusahaan sudah dapat memerkirakan yang mana bakal menjadi peminjam buruk"
      ]
    },
    {
      "cell_type": "markdown",
      "metadata": {
        "id": "GAMxjxR1Sh8H"
      },
      "source": [
        "### issue_m"
      ]
    },
    {
      "cell_type": "code",
      "execution_count": 34,
      "metadata": {
        "colab": {
          "base_uri": "https://localhost:8080/"
        },
        "id": "hvl5pPOESZft",
        "outputId": "805bc3fb-5ec8-43f9-ce8a-a2eb637ea249"
      },
      "outputs": [
        {
          "data": {
            "text/plain": [
              "0         12\n",
              "1         12\n",
              "2         12\n",
              "3         12\n",
              "4         12\n",
              "          ..\n",
              "466280     1\n",
              "466281     1\n",
              "466282     1\n",
              "466283     1\n",
              "466284     1\n",
              "Name: issue_m, Length: 466285, dtype: int64"
            ]
          },
          "execution_count": 34,
          "metadata": {},
          "output_type": "execute_result"
        }
      ],
      "source": [
        "df['issue_m'] = df['issue_d'].dt.month\n",
        "df['issue_m']"
      ]
    },
    {
      "cell_type": "code",
      "execution_count": 35,
      "metadata": {
        "colab": {
          "base_uri": "https://localhost:8080/",
          "height": 0
        },
        "id": "u4R2WgiJSk8b",
        "outputId": "8cc92ee5-25bd-4c44-f4f5-4582c5e6edea"
      },
      "outputs": [
        {
          "data": {
            "image/png": "[encoded data removed]",
            "text/plain": [
              "<Figure size 504x360 with 1 Axes>"
            ]
          },
          "metadata": {
            "needs_background": "light"
          },
          "output_type": "display_data"
        }
      ],
      "source": [
        "plt.figure(figsize=(7,5))\n",
        "sns.countplot(x='issue_m', data=df, hue='loan_status')\n",
        "plt.show()"
      ]
    },
    {
      "cell_type": "markdown",
      "metadata": {
        "id": "h4ntPUR3Snb8"
      },
      "source": [
        "dari data ini peminjam menjadi meningkat di bulan 10 dan berangsur menurun di bulan selanjutnya, kemungkinan ini dikarenakan fenomena akhir tahun"
      ]
    },
    {
      "cell_type": "markdown",
      "metadata": {
        "id": "9jaTG0pXSvSh"
      },
      "source": [
        "### purpose"
      ]
    },
    {
      "cell_type": "code",
      "execution_count": 36,
      "metadata": {
        "colab": {
          "base_uri": "https://localhost:8080/"
        },
        "id": "R3CsKRZASr2H",
        "outputId": "8e804782-5927-4e5c-d74d-0f50a1c9fa07"
      },
      "outputs": [
        {
          "data": {
            "text/plain": [
              "debt_consolidation    274195\n",
              "credit_card           104157\n",
              "home_improvement       26537\n",
              "other                  23690\n",
              "major_purchase          9828\n",
              "small_business          7013\n",
              "car                     5397\n",
              "medical                 4602\n",
              "moving                  2994\n",
              "vacation                2487\n",
              "wedding                 2343\n",
              "house                   2269\n",
              "educational              422\n",
              "renewable_energy         351\n",
              "Name: purpose, dtype: int64"
            ]
          },
          "execution_count": 36,
          "metadata": {},
          "output_type": "execute_result"
        }
      ],
      "source": [
        "df['purpose'].value_counts()"
      ]
    },
    {
      "cell_type": "code",
      "execution_count": 37,
      "metadata": {
        "colab": {
          "base_uri": "https://localhost:8080/",
          "height": 0
        },
        "id": "YMhdfFDzSyfZ",
        "outputId": "bb22d7d5-1fad-4d4c-e0a5-8c41877d7e1d"
      },
      "outputs": [
        {
          "data": {
            "image/png": "[encoded data removed]",
            "text/plain": [
              "<Figure size 720x576 with 1 Axes>"
            ]
          },
          "metadata": {
            "needs_background": "light"
          },
          "output_type": "display_data"
        }
      ],
      "source": [
        "plt.figure(figsize=(10,8))\n",
        "sns.countplot(y='purpose', data=df, hue='loan_status')\n",
        "plt.show()"
      ]
    },
    {
      "cell_type": "markdown",
      "metadata": {
        "id": "sdLLP6RIS2Kj"
      },
      "source": [
        "disini terlihat jelas bahwa debt_consolidation yang berarti menggabungkan beberapa utang menjadi satu pinjaman yang lebih besar, bisa dibilang mereka menumpuk hutang mereka untuk membayar hutang yang lain"
      ]
    },
    {
      "cell_type": "markdown",
      "metadata": {
        "id": "YGz4h8ClTBFP"
      },
      "source": [
        "### addr_state"
      ]
    },
    {
      "cell_type": "code",
      "execution_count": 38,
      "metadata": {
        "colab": {
          "base_uri": "https://localhost:8080/"
        },
        "id": "jyZnx4VnS-GA",
        "outputId": "fd935997-fa82-4355-9e00-7871199989c0"
      },
      "outputs": [
        {
          "data": {
            "text/plain": [
              "CA    71450\n",
              "NY    40242\n",
              "TX    36439\n",
              "FL    31637\n",
              "IL    18612\n",
              "NJ    18061\n",
              "PA    16424\n",
              "OH    15237\n",
              "GA    14975\n",
              "VA    14222\n",
              "NC    12682\n",
              "MI    11549\n",
              "MA    11072\n",
              "MD    10974\n",
              "AZ    10712\n",
              "WA    10517\n",
              "CO     9739\n",
              "MN     8158\n",
              "MO     7508\n",
              "CT     7204\n",
              "IN     6525\n",
              "NV     6519\n",
              "TN     5984\n",
              "OR     5949\n",
              "WI     5911\n",
              "AL     5853\n",
              "SC     5583\n",
              "LA     5489\n",
              "KY     4438\n",
              "KS     4190\n",
              "OK     4117\n",
              "AR     3488\n",
              "UT     3428\n",
              "NM     2588\n",
              "HI     2487\n",
              "WV     2412\n",
              "NH     2232\n",
              "RI     2050\n",
              "DC     1426\n",
              "MT     1396\n",
              "DE     1272\n",
              "AK     1251\n",
              "MS     1226\n",
              "WY     1128\n",
              "SD      980\n",
              "VT      905\n",
              "IA       14\n",
              "NE       14\n",
              "ID       12\n",
              "ME        4\n",
              "Name: addr_state, dtype: int64"
            ]
          },
          "execution_count": 38,
          "metadata": {},
          "output_type": "execute_result"
        }
      ],
      "source": [
        "df['addr_state'].value_counts()"
      ]
    },
    {
      "cell_type": "code",
      "execution_count": 39,
      "metadata": {
        "colab": {
          "base_uri": "https://localhost:8080/",
          "height": 0
        },
        "id": "hsM0jcMnTEWH",
        "outputId": "dadc0648-914d-4a45-924f-2c931df8b825"
      },
      "outputs": [
        {
          "data": {
            "image/png": "[encoded data removed]",
            "text/plain": [
              "<Figure size 504x360 with 1 Axes>"
            ]
          },
          "metadata": {
            "needs_background": "light"
          },
          "output_type": "display_data"
        }
      ],
      "source": [
        "plt.figure(figsize=(7,5))\n",
        "sns.countplot(x='addr_state', data=df, order=df['addr_state'].value_counts()[:15].index, hue='loan_status')\n",
        "plt.show()"
      ]
    },
    {
      "cell_type": "markdown",
      "metadata": {},
      "source": [
        "peminjam terbanyak kebanyakan berasal dari CA atau berarti California"
      ]
    },
    {
      "cell_type": "markdown",
      "metadata": {
        "id": "PoBswe9JTHOf"
      },
      "source": [
        "### earliest_cr_line"
      ]
    },
    {
      "cell_type": "code",
      "execution_count": 40,
      "metadata": {
        "colab": {
          "base_uri": "https://localhost:8080/"
        },
        "id": "8wikij1ATJgC",
        "outputId": "e8055b30-7b46-4db1-b566-d5bef5dcbc03"
      },
      "outputs": [
        {
          "data": {
            "text/plain": [
              "0    1985\n",
              "1    1999\n",
              "2    2001\n",
              "3    1996\n",
              "4    1996\n",
              "Name: earliest_cr_line, dtype: period[A-DEC]"
            ]
          },
          "execution_count": 40,
          "metadata": {},
          "output_type": "execute_result"
        }
      ],
      "source": [
        "#Format tanggal ke tipe date\n",
        "df['earliest_cr_line'] = pd.to_datetime(df['earliest_cr_line'], format='%b-%y').dt.to_period('Y')\n",
        "df['earliest_cr_line'][:5]"
      ]
    },
    {
      "cell_type": "code",
      "execution_count": 41,
      "metadata": {
        "colab": {
          "base_uri": "https://localhost:8080/",
          "height": 0
        },
        "id": "Ma69NmB4TK3E",
        "outputId": "6d4b6a95-1b87-4b68-ca99-79cd8563c74e"
      },
      "outputs": [
        {
          "data": {
            "image/png": "[encoded data removed]",
            "text/plain": [
              "<Figure size 576x360 with 1 Axes>"
            ]
          },
          "metadata": {
            "needs_background": "light"
          },
          "output_type": "display_data"
        }
      ],
      "source": [
        "date_data = df.groupby(['loan_status', 'earliest_cr_line']).size().reset_index().pivot(index='earliest_cr_line', columns='loan_status', values=0)\n",
        "date_data.plot(kind='line', figsize=(8,5))\n",
        "plt.show()"
      ]
    },
    {
      "cell_type": "markdown",
      "metadata": {
        "id": "L2ybls82TN4N"
      },
      "source": [
        "ada error pada kolom dikarenakan transaksi terbaru seharusnya di tahun 2017, sedangkan disini sampai 2045 keatas"
      ]
    },
    {
      "cell_type": "markdown",
      "metadata": {
        "id": "dNMJOIUITPgS"
      },
      "source": [
        "### initial_list_status"
      ]
    },
    {
      "cell_type": "code",
      "execution_count": 42,
      "metadata": {
        "colab": {
          "base_uri": "https://localhost:8080/",
          "height": 0
        },
        "id": "9eT3PzgPTR5u",
        "outputId": "f865efba-c187-4d51-a7cc-d403ae3bb866"
      },
      "outputs": [
        {
          "data": {
            "image/png": "[encoded data removed]",
            "text/plain": [
              "<Figure size 504x360 with 1 Axes>"
            ]
          },
          "metadata": {
            "needs_background": "light"
          },
          "output_type": "display_data"
        }
      ],
      "source": [
        "plt.figure(figsize=(7,5))\n",
        "sns.countplot(x='initial_list_status', data=df, hue='loan_status')\n",
        "plt.show()"
      ]
    },
    {
      "cell_type": "markdown",
      "metadata": {
        "id": "i86dNulxTU3V"
      },
      "source": [
        "### last_pymnt_d"
      ]
    },
    {
      "cell_type": "code",
      "execution_count": 43,
      "metadata": {
        "colab": {
          "base_uri": "https://localhost:8080/",
          "height": 0
        },
        "id": "FK09tWxfTTKL",
        "outputId": "83db6349-c2b8-4eff-c3a7-b85fee03e99f"
      },
      "outputs": [
        {
          "data": {
            "image/png": "[encoded data removed]",
            "text/plain": [
              "<Figure size 576x360 with 1 Axes>"
            ]
          },
          "metadata": {
            "needs_background": "light"
          },
          "output_type": "display_data"
        }
      ],
      "source": [
        "date_data = df.groupby(['loan_status', 'last_pymnt_d']).size().reset_index().pivot(index='last_pymnt_d', columns='loan_status', values=0)\n",
        "date_data.plot(kind='line', figsize=(8,5))\n",
        "plt.show()"
      ]
    },
    {
      "cell_type": "markdown",
      "metadata": {
        "id": "UIfFeWMeTYYN"
      },
      "source": [
        "### next_pymnt_d"
      ]
    },
    {
      "cell_type": "code",
      "execution_count": 44,
      "metadata": {
        "colab": {
          "base_uri": "https://localhost:8080/",
          "height": 0
        },
        "id": "aACELE8ETW8p",
        "outputId": "5f30821e-5c56-4c5f-c4b1-1c4c60ad1355"
      },
      "outputs": [
        {
          "data": {
            "image/png": "[encoded data removed]",
            "text/plain": [
              "<Figure size 576x360 with 1 Axes>"
            ]
          },
          "metadata": {
            "needs_background": "light"
          },
          "output_type": "display_data"
        }
      ],
      "source": [
        "date_data = df.groupby(['loan_status', 'next_pymnt_d']).size().reset_index().pivot(index='next_pymnt_d', columns='loan_status', values=0)\n",
        "date_data.plot(kind='line', figsize=(8,5))\n",
        "plt.show()"
      ]
    },
    {
      "cell_type": "markdown",
      "metadata": {
        "id": "1csGLcAVTbxP"
      },
      "source": [
        "### last_credit_pull_d"
      ]
    },
    {
      "cell_type": "code",
      "execution_count": 45,
      "metadata": {
        "colab": {
          "base_uri": "https://localhost:8080/",
          "height": 0
        },
        "id": "MIVbG7iUTaZ8",
        "outputId": "e313be2d-eb9f-4b68-86c3-d0f0e2ac1b04"
      },
      "outputs": [
        {
          "data": {
            "image/png": "[encoded data removed]",
            "text/plain": [
              "<Figure size 576x360 with 1 Axes>"
            ]
          },
          "metadata": {
            "needs_background": "light"
          },
          "output_type": "display_data"
        }
      ],
      "source": [
        "date_data = df.groupby(['loan_status', 'last_credit_pull_d']).size().reset_index().pivot(index='last_credit_pull_d', columns='loan_status', values=0)\n",
        "date_data.plot(kind='line', figsize=(8,5))\n",
        "plt.show()"
      ]
    },
    {
      "cell_type": "markdown",
      "metadata": {
        "id": "dhddTmhUTkVL"
      },
      "source": [
        "## membuang Multicollinearity"
      ]
    },
    {
      "cell_type": "markdown",
      "metadata": {
        "id": "pakrlDTOTmrp"
      },
      "source": [
        "nilai yang sama persis seperti \"loan_amnt\" dan \"funded_amnt\" disebut multicollinearity dan kolom tersebut tidak memiliki informasi lebih ataupun penting karena sudah diwakili oleh nilai lain, maka akan kita buang"
      ]
    },
    {
      "cell_type": "code",
      "execution_count": 46,
      "metadata": {
        "colab": {
          "base_uri": "https://localhost:8080/",
          "height": 0
        },
        "id": "1WmD0lHhTkCI",
        "outputId": "b8a2620f-7f07-4bbd-cccb-987c9c95def8"
      },
      "outputs": [
        {
          "data": {
            "image/png": "[encoded data removed]",
            "text/plain": [
              "<Figure size 720x720 with 2 Axes>"
            ]
          },
          "metadata": {
            "needs_background": "light"
          },
          "output_type": "display_data"
        }
      ],
      "source": [
        "#heatmap\n",
        "plt.figure(figsize=(10,10))\n",
        "sns.heatmap(df.corr(), square=True, cmap='coolwarm')\n",
        "plt.show()"
      ]
    },
    {
      "cell_type": "markdown",
      "metadata": {
        "id": "zLRZeTZiTp04"
      },
      "source": [
        "dari sini kita bisa memilih kolom mana saja yang bisa atau perlu dihapus, seperti Kolom \"loan_amnt\", \"funded_amnt\", \"funded_amnt_inv\", \"installment\""
      ]
    },
    {
      "cell_type": "markdown",
      "metadata": {
        "id": "GTT7GCKcTrx8"
      },
      "source": [
        "## Numerical Features"
      ]
    },
    {
      "cell_type": "code",
      "execution_count": 47,
      "metadata": {
        "colab": {
          "base_uri": "https://localhost:8080/"
        },
        "id": "e2h_NSAITwe0",
        "outputId": "6e52939e-afec-4875-a80b-d8670d346c41"
      },
      "outputs": [
        {
          "data": {
            "text/plain": [
              "Index(['loan_amnt', 'funded_amnt', 'funded_amnt_inv', 'int_rate',\n",
              "       'installment', 'annual_inc', 'dti', 'delinq_2yrs', 'inq_last_6mths',\n",
              "       'mths_since_last_delinq', 'mths_since_last_record', 'open_acc',\n",
              "       'pub_rec', 'revol_bal', 'revol_util', 'total_acc', 'out_prncp',\n",
              "       'out_prncp_inv', 'total_pymnt', 'total_pymnt_inv', 'total_rec_prncp',\n",
              "       'total_rec_int', 'total_rec_late_fee', 'recoveries',\n",
              "       'collection_recovery_fee', 'last_pymnt_amnt',\n",
              "       'collections_12_mths_ex_med', 'mths_since_last_major_derog',\n",
              "       'policy_code', 'acc_now_delinq', 'tot_coll_amt', 'tot_cur_bal',\n",
              "       'total_rev_hi_lim'],\n",
              "      dtype='object')"
            ]
          },
          "execution_count": 47,
          "metadata": {},
          "output_type": "execute_result"
        }
      ],
      "source": [
        "num_df.columns"
      ]
    },
    {
      "cell_type": "code",
      "execution_count": 48,
      "metadata": {
        "colab": {
          "base_uri": "https://localhost:8080/",
          "height": 0
        },
        "id": "AoBUWD3aTolN",
        "outputId": "69b2972c-3b8f-4011-ef8f-17188295aca7"
      },
      "outputs": [
        {
          "data": {
            "text/html": [
              "<div>\n",
              "<style scoped>\n",
              "    .dataframe tbody tr th:only-of-type {\n",
              "        vertical-align: middle;\n",
              "    }\n",
              "\n",
              "    .dataframe tbody tr th {\n",
              "        vertical-align: top;\n",
              "    }\n",
              "\n",
              "    .dataframe thead th {\n",
              "        text-align: right;\n",
              "    }\n",
              "</style>\n",
              "<table border=\"1\" class=\"dataframe\">\n",
              "  <thead>\n",
              "    <tr style=\"text-align: right;\">\n",
              "      <th></th>\n",
              "      <th>loan_amnt</th>\n",
              "      <th>funded_amnt</th>\n",
              "      <th>funded_amnt_inv</th>\n",
              "      <th>int_rate</th>\n",
              "      <th>installment</th>\n",
              "      <th>annual_inc</th>\n",
              "      <th>dti</th>\n",
              "      <th>delinq_2yrs</th>\n",
              "      <th>inq_last_6mths</th>\n",
              "      <th>mths_since_last_delinq</th>\n",
              "      <th>...</th>\n",
              "      <th>recoveries</th>\n",
              "      <th>collection_recovery_fee</th>\n",
              "      <th>last_pymnt_amnt</th>\n",
              "      <th>collections_12_mths_ex_med</th>\n",
              "      <th>mths_since_last_major_derog</th>\n",
              "      <th>policy_code</th>\n",
              "      <th>acc_now_delinq</th>\n",
              "      <th>tot_coll_amt</th>\n",
              "      <th>tot_cur_bal</th>\n",
              "      <th>total_rev_hi_lim</th>\n",
              "    </tr>\n",
              "  </thead>\n",
              "  <tbody>\n",
              "    <tr>\n",
              "      <th>0</th>\n",
              "      <td>5000</td>\n",
              "      <td>5000</td>\n",
              "      <td>4975.0</td>\n",
              "      <td>10.65</td>\n",
              "      <td>162.87</td>\n",
              "      <td>24000.0</td>\n",
              "      <td>27.65</td>\n",
              "      <td>0.0</td>\n",
              "      <td>1.0</td>\n",
              "      <td>NaN</td>\n",
              "      <td>...</td>\n",
              "      <td>0.00</td>\n",
              "      <td>0.00</td>\n",
              "      <td>171.62</td>\n",
              "      <td>0.0</td>\n",
              "      <td>NaN</td>\n",
              "      <td>1</td>\n",
              "      <td>0.0</td>\n",
              "      <td>NaN</td>\n",
              "      <td>NaN</td>\n",
              "      <td>NaN</td>\n",
              "    </tr>\n",
              "    <tr>\n",
              "      <th>1</th>\n",
              "      <td>2500</td>\n",
              "      <td>2500</td>\n",
              "      <td>2500.0</td>\n",
              "      <td>15.27</td>\n",
              "      <td>59.83</td>\n",
              "      <td>30000.0</td>\n",
              "      <td>1.00</td>\n",
              "      <td>0.0</td>\n",
              "      <td>5.0</td>\n",
              "      <td>NaN</td>\n",
              "      <td>...</td>\n",
              "      <td>117.08</td>\n",
              "      <td>1.11</td>\n",
              "      <td>119.66</td>\n",
              "      <td>0.0</td>\n",
              "      <td>NaN</td>\n",
              "      <td>1</td>\n",
              "      <td>0.0</td>\n",
              "      <td>NaN</td>\n",
              "      <td>NaN</td>\n",
              "      <td>NaN</td>\n",
              "    </tr>\n",
              "    <tr>\n",
              "      <th>2</th>\n",
              "      <td>2400</td>\n",
              "      <td>2400</td>\n",
              "      <td>2400.0</td>\n",
              "      <td>15.96</td>\n",
              "      <td>84.33</td>\n",
              "      <td>12252.0</td>\n",
              "      <td>8.72</td>\n",
              "      <td>0.0</td>\n",
              "      <td>2.0</td>\n",
              "      <td>NaN</td>\n",
              "      <td>...</td>\n",
              "      <td>0.00</td>\n",
              "      <td>0.00</td>\n",
              "      <td>649.91</td>\n",
              "      <td>0.0</td>\n",
              "      <td>NaN</td>\n",
              "      <td>1</td>\n",
              "      <td>0.0</td>\n",
              "      <td>NaN</td>\n",
              "      <td>NaN</td>\n",
              "      <td>NaN</td>\n",
              "    </tr>\n",
              "    <tr>\n",
              "      <th>3</th>\n",
              "      <td>10000</td>\n",
              "      <td>10000</td>\n",
              "      <td>10000.0</td>\n",
              "      <td>13.49</td>\n",
              "      <td>339.31</td>\n",
              "      <td>49200.0</td>\n",
              "      <td>20.00</td>\n",
              "      <td>0.0</td>\n",
              "      <td>1.0</td>\n",
              "      <td>35.0</td>\n",
              "      <td>...</td>\n",
              "      <td>0.00</td>\n",
              "      <td>0.00</td>\n",
              "      <td>357.48</td>\n",
              "      <td>0.0</td>\n",
              "      <td>NaN</td>\n",
              "      <td>1</td>\n",
              "      <td>0.0</td>\n",
              "      <td>NaN</td>\n",
              "      <td>NaN</td>\n",
              "      <td>NaN</td>\n",
              "    </tr>\n",
              "    <tr>\n",
              "      <th>4</th>\n",
              "      <td>3000</td>\n",
              "      <td>3000</td>\n",
              "      <td>3000.0</td>\n",
              "      <td>12.69</td>\n",
              "      <td>67.79</td>\n",
              "      <td>80000.0</td>\n",
              "      <td>17.94</td>\n",
              "      <td>0.0</td>\n",
              "      <td>0.0</td>\n",
              "      <td>38.0</td>\n",
              "      <td>...</td>\n",
              "      <td>0.00</td>\n",
              "      <td>0.00</td>\n",
              "      <td>67.79</td>\n",
              "      <td>0.0</td>\n",
              "      <td>NaN</td>\n",
              "      <td>1</td>\n",
              "      <td>0.0</td>\n",
              "      <td>NaN</td>\n",
              "      <td>NaN</td>\n",
              "      <td>NaN</td>\n",
              "    </tr>\n",
              "  </tbody>\n",
              "</table>\n",
              "<p>5 rows × 33 columns</p>\n",
              "</div>"
            ],
            "text/plain": [
              "   loan_amnt  funded_amnt  funded_amnt_inv  int_rate  installment  annual_inc  \\\n",
              "0       5000         5000           4975.0     10.65       162.87     24000.0   \n",
              "1       2500         2500           2500.0     15.27        59.83     30000.0   \n",
              "2       2400         2400           2400.0     15.96        84.33     12252.0   \n",
              "3      10000        10000          10000.0     13.49       339.31     49200.0   \n",
              "4       3000         3000           3000.0     12.69        67.79     80000.0   \n",
              "\n",
              "     dti  delinq_2yrs  inq_last_6mths  mths_since_last_delinq  ...  \\\n",
              "0  27.65          0.0             1.0                     NaN  ...   \n",
              "1   1.00          0.0             5.0                     NaN  ...   \n",
              "2   8.72          0.0             2.0                     NaN  ...   \n",
              "3  20.00          0.0             1.0                    35.0  ...   \n",
              "4  17.94          0.0             0.0                    38.0  ...   \n",
              "\n",
              "   recoveries  collection_recovery_fee  last_pymnt_amnt  \\\n",
              "0        0.00                     0.00           171.62   \n",
              "1      117.08                     1.11           119.66   \n",
              "2        0.00                     0.00           649.91   \n",
              "3        0.00                     0.00           357.48   \n",
              "4        0.00                     0.00            67.79   \n",
              "\n",
              "   collections_12_mths_ex_med  mths_since_last_major_derog  policy_code  \\\n",
              "0                         0.0                          NaN            1   \n",
              "1                         0.0                          NaN            1   \n",
              "2                         0.0                          NaN            1   \n",
              "3                         0.0                          NaN            1   \n",
              "4                         0.0                          NaN            1   \n",
              "\n",
              "   acc_now_delinq  tot_coll_amt  tot_cur_bal  total_rev_hi_lim  \n",
              "0             0.0           NaN          NaN               NaN  \n",
              "1             0.0           NaN          NaN               NaN  \n",
              "2             0.0           NaN          NaN               NaN  \n",
              "3             0.0           NaN          NaN               NaN  \n",
              "4             0.0           NaN          NaN               NaN  \n",
              "\n",
              "[5 rows x 33 columns]"
            ]
          },
          "execution_count": 48,
          "metadata": {},
          "output_type": "execute_result"
        }
      ],
      "source": [
        "num_df.head()"
      ]
    },
    {
      "cell_type": "code",
      "execution_count": 49,
      "metadata": {
        "colab": {
          "base_uri": "https://localhost:8080/"
        },
        "id": "8oFKUl5vTxdd",
        "outputId": "a98c73a8-7bca-443e-a97a-fc3d8bebdc13"
      },
      "outputs": [
        {
          "name": "stdout",
          "output_type": "stream",
          "text": [
            "loan_amnt = 1352\n",
            "funded_amnt = 1354\n",
            "funded_amnt_inv = 9854\n",
            "int_rate = 506\n",
            "installment = 55622\n",
            "annual_inc = 31902\n",
            "dti = 3997\n",
            "delinq_2yrs = 25\n",
            "inq_last_6mths = 29\n",
            "mths_since_last_delinq = 146\n",
            "mths_since_last_record = 124\n",
            "open_acc = 63\n",
            "pub_rec = 27\n",
            "revol_bal = 58142\n",
            "revol_util = 1270\n",
            "total_acc = 113\n",
            "out_prncp = 135665\n",
            "out_prncp_inv = 141189\n",
            "total_pymnt = 351609\n",
            "total_pymnt_inv = 347659\n",
            "total_rec_prncp = 172713\n",
            "total_rec_int = 270249\n",
            "total_rec_late_fee = 5808\n",
            "recoveries = 22773\n",
            "collection_recovery_fee = 20275\n",
            "last_pymnt_amnt = 198194\n",
            "collections_12_mths_ex_med = 10\n",
            "mths_since_last_major_derog = 163\n",
            "policy_code = 1\n",
            "acc_now_delinq = 7\n",
            "tot_coll_amt = 6322\n",
            "tot_cur_bal = 220691\n",
            "total_rev_hi_lim = 14613\n"
          ]
        }
      ],
      "source": [
        "for x in num_df.columns:\n",
        "    print(x, '=', len(num_df[x].unique()))"
      ]
    },
    {
      "cell_type": "markdown",
      "metadata": {
        "id": "7hz3saYaT1HV"
      },
      "source": [
        "policy akan dibuang karena hanya ada 1 nilai"
      ]
    },
    {
      "cell_type": "code",
      "execution_count": 50,
      "metadata": {
        "colab": {
          "base_uri": "https://localhost:8080/",
          "height": 0
        },
        "id": "JD_tQ7yqTy4w",
        "outputId": "90e5087e-a4c7-4082-cf14-84f2f2efe044"
      },
      "outputs": [
        {
          "data": {
            "image/png": "[encoded data removed]",
            "text/plain": [
              "<Figure size 1080x2160 with 33 Axes>"
            ]
          },
          "metadata": {
            "needs_background": "light"
          },
          "output_type": "display_data"
        }
      ],
      "source": [
        "num_df = num_df\n",
        "num_df.hist(bins=50, layout=(11,3), figsize=(15,30))\n",
        "plt.show()"
      ]
    },
    {
      "cell_type": "code",
      "execution_count": 51,
      "metadata": {
        "colab": {
          "base_uri": "https://localhost:8080/",
          "height": 0
        },
        "id": "UT17GRNWT6TL",
        "outputId": "fdc56f0d-cb35-4e74-e223-a53a5724932b"
      },
      "outputs": [
        {
          "data": {
            "text/html": [
              "<div>\n",
              "<style scoped>\n",
              "    .dataframe tbody tr th:only-of-type {\n",
              "        vertical-align: middle;\n",
              "    }\n",
              "\n",
              "    .dataframe tbody tr th {\n",
              "        vertical-align: top;\n",
              "    }\n",
              "\n",
              "    .dataframe thead th {\n",
              "        text-align: right;\n",
              "    }\n",
              "</style>\n",
              "<table border=\"1\" class=\"dataframe\">\n",
              "  <thead>\n",
              "    <tr style=\"text-align: right;\">\n",
              "      <th></th>\n",
              "      <th>loan_amnt</th>\n",
              "      <th>funded_amnt</th>\n",
              "      <th>funded_amnt_inv</th>\n",
              "      <th>int_rate</th>\n",
              "      <th>installment</th>\n",
              "      <th>annual_inc</th>\n",
              "      <th>dti</th>\n",
              "      <th>delinq_2yrs</th>\n",
              "      <th>inq_last_6mths</th>\n",
              "      <th>mths_since_last_delinq</th>\n",
              "      <th>...</th>\n",
              "      <th>recoveries</th>\n",
              "      <th>collection_recovery_fee</th>\n",
              "      <th>last_pymnt_amnt</th>\n",
              "      <th>collections_12_mths_ex_med</th>\n",
              "      <th>mths_since_last_major_derog</th>\n",
              "      <th>policy_code</th>\n",
              "      <th>acc_now_delinq</th>\n",
              "      <th>tot_coll_amt</th>\n",
              "      <th>tot_cur_bal</th>\n",
              "      <th>total_rev_hi_lim</th>\n",
              "    </tr>\n",
              "  </thead>\n",
              "  <tbody>\n",
              "    <tr>\n",
              "      <th>count</th>\n",
              "      <td>466285.000000</td>\n",
              "      <td>466285.000000</td>\n",
              "      <td>466285.000000</td>\n",
              "      <td>466285.000000</td>\n",
              "      <td>466285.000000</td>\n",
              "      <td>4.662810e+05</td>\n",
              "      <td>466285.000000</td>\n",
              "      <td>466256.000000</td>\n",
              "      <td>466256.000000</td>\n",
              "      <td>215934.000000</td>\n",
              "      <td>...</td>\n",
              "      <td>466285.000000</td>\n",
              "      <td>466285.000000</td>\n",
              "      <td>466285.000000</td>\n",
              "      <td>466140.000000</td>\n",
              "      <td>98974.000000</td>\n",
              "      <td>466285.0</td>\n",
              "      <td>466256.000000</td>\n",
              "      <td>3.960090e+05</td>\n",
              "      <td>3.960090e+05</td>\n",
              "      <td>3.960090e+05</td>\n",
              "    </tr>\n",
              "    <tr>\n",
              "      <th>mean</th>\n",
              "      <td>14317.277577</td>\n",
              "      <td>14291.801044</td>\n",
              "      <td>14222.329888</td>\n",
              "      <td>13.829236</td>\n",
              "      <td>432.061201</td>\n",
              "      <td>7.327738e+04</td>\n",
              "      <td>17.218758</td>\n",
              "      <td>0.284678</td>\n",
              "      <td>0.804745</td>\n",
              "      <td>34.104430</td>\n",
              "      <td>...</td>\n",
              "      <td>85.344211</td>\n",
              "      <td>8.961534</td>\n",
              "      <td>3123.913796</td>\n",
              "      <td>0.009085</td>\n",
              "      <td>42.852547</td>\n",
              "      <td>1.0</td>\n",
              "      <td>0.004002</td>\n",
              "      <td>1.919135e+02</td>\n",
              "      <td>1.388017e+05</td>\n",
              "      <td>3.037909e+04</td>\n",
              "    </tr>\n",
              "    <tr>\n",
              "      <th>std</th>\n",
              "      <td>8286.509164</td>\n",
              "      <td>8274.371300</td>\n",
              "      <td>8297.637788</td>\n",
              "      <td>4.357587</td>\n",
              "      <td>243.485550</td>\n",
              "      <td>5.496357e+04</td>\n",
              "      <td>7.851121</td>\n",
              "      <td>0.797365</td>\n",
              "      <td>1.091598</td>\n",
              "      <td>21.778487</td>\n",
              "      <td>...</td>\n",
              "      <td>552.216084</td>\n",
              "      <td>85.491437</td>\n",
              "      <td>5554.737393</td>\n",
              "      <td>0.108648</td>\n",
              "      <td>21.662591</td>\n",
              "      <td>0.0</td>\n",
              "      <td>0.068637</td>\n",
              "      <td>1.463021e+04</td>\n",
              "      <td>1.521147e+05</td>\n",
              "      <td>3.724713e+04</td>\n",
              "    </tr>\n",
              "    <tr>\n",
              "      <th>min</th>\n",
              "      <td>500.000000</td>\n",
              "      <td>500.000000</td>\n",
              "      <td>0.000000</td>\n",
              "      <td>5.420000</td>\n",
              "      <td>15.670000</td>\n",
              "      <td>1.896000e+03</td>\n",
              "      <td>0.000000</td>\n",
              "      <td>0.000000</td>\n",
              "      <td>0.000000</td>\n",
              "      <td>0.000000</td>\n",
              "      <td>...</td>\n",
              "      <td>0.000000</td>\n",
              "      <td>0.000000</td>\n",
              "      <td>0.000000</td>\n",
              "      <td>0.000000</td>\n",
              "      <td>0.000000</td>\n",
              "      <td>1.0</td>\n",
              "      <td>0.000000</td>\n",
              "      <td>0.000000e+00</td>\n",
              "      <td>0.000000e+00</td>\n",
              "      <td>0.000000e+00</td>\n",
              "    </tr>\n",
              "    <tr>\n",
              "      <th>25%</th>\n",
              "      <td>8000.000000</td>\n",
              "      <td>8000.000000</td>\n",
              "      <td>8000.000000</td>\n",
              "      <td>10.990000</td>\n",
              "      <td>256.690000</td>\n",
              "      <td>4.500000e+04</td>\n",
              "      <td>11.360000</td>\n",
              "      <td>0.000000</td>\n",
              "      <td>0.000000</td>\n",
              "      <td>16.000000</td>\n",
              "      <td>...</td>\n",
              "      <td>0.000000</td>\n",
              "      <td>0.000000</td>\n",
              "      <td>312.620000</td>\n",
              "      <td>0.000000</td>\n",
              "      <td>26.000000</td>\n",
              "      <td>1.0</td>\n",
              "      <td>0.000000</td>\n",
              "      <td>0.000000e+00</td>\n",
              "      <td>2.861800e+04</td>\n",
              "      <td>1.350000e+04</td>\n",
              "    </tr>\n",
              "    <tr>\n",
              "      <th>50%</th>\n",
              "      <td>12000.000000</td>\n",
              "      <td>12000.000000</td>\n",
              "      <td>12000.000000</td>\n",
              "      <td>13.660000</td>\n",
              "      <td>379.890000</td>\n",
              "      <td>6.300000e+04</td>\n",
              "      <td>16.870000</td>\n",
              "      <td>0.000000</td>\n",
              "      <td>0.000000</td>\n",
              "      <td>31.000000</td>\n",
              "      <td>...</td>\n",
              "      <td>0.000000</td>\n",
              "      <td>0.000000</td>\n",
              "      <td>545.960000</td>\n",
              "      <td>0.000000</td>\n",
              "      <td>42.000000</td>\n",
              "      <td>1.0</td>\n",
              "      <td>0.000000</td>\n",
              "      <td>0.000000e+00</td>\n",
              "      <td>8.153900e+04</td>\n",
              "      <td>2.280000e+04</td>\n",
              "    </tr>\n",
              "    <tr>\n",
              "      <th>75%</th>\n",
              "      <td>20000.000000</td>\n",
              "      <td>20000.000000</td>\n",
              "      <td>19950.000000</td>\n",
              "      <td>16.490000</td>\n",
              "      <td>566.580000</td>\n",
              "      <td>8.896000e+04</td>\n",
              "      <td>22.780000</td>\n",
              "      <td>0.000000</td>\n",
              "      <td>1.000000</td>\n",
              "      <td>49.000000</td>\n",
              "      <td>...</td>\n",
              "      <td>0.000000</td>\n",
              "      <td>0.000000</td>\n",
              "      <td>3187.510000</td>\n",
              "      <td>0.000000</td>\n",
              "      <td>59.000000</td>\n",
              "      <td>1.0</td>\n",
              "      <td>0.000000</td>\n",
              "      <td>0.000000e+00</td>\n",
              "      <td>2.089530e+05</td>\n",
              "      <td>3.790000e+04</td>\n",
              "    </tr>\n",
              "    <tr>\n",
              "      <th>max</th>\n",
              "      <td>35000.000000</td>\n",
              "      <td>35000.000000</td>\n",
              "      <td>35000.000000</td>\n",
              "      <td>26.060000</td>\n",
              "      <td>1409.990000</td>\n",
              "      <td>7.500000e+06</td>\n",
              "      <td>39.990000</td>\n",
              "      <td>29.000000</td>\n",
              "      <td>33.000000</td>\n",
              "      <td>188.000000</td>\n",
              "      <td>...</td>\n",
              "      <td>33520.270000</td>\n",
              "      <td>7002.190000</td>\n",
              "      <td>36234.440000</td>\n",
              "      <td>20.000000</td>\n",
              "      <td>188.000000</td>\n",
              "      <td>1.0</td>\n",
              "      <td>5.000000</td>\n",
              "      <td>9.152545e+06</td>\n",
              "      <td>8.000078e+06</td>\n",
              "      <td>9.999999e+06</td>\n",
              "    </tr>\n",
              "  </tbody>\n",
              "</table>\n",
              "<p>8 rows × 33 columns</p>\n",
              "</div>"
            ],
            "text/plain": [
              "           loan_amnt    funded_amnt  funded_amnt_inv       int_rate  \\\n",
              "count  466285.000000  466285.000000    466285.000000  466285.000000   \n",
              "mean    14317.277577   14291.801044     14222.329888      13.829236   \n",
              "std      8286.509164    8274.371300      8297.637788       4.357587   \n",
              "min       500.000000     500.000000         0.000000       5.420000   \n",
              "25%      8000.000000    8000.000000      8000.000000      10.990000   \n",
              "50%     12000.000000   12000.000000     12000.000000      13.660000   \n",
              "75%     20000.000000   20000.000000     19950.000000      16.490000   \n",
              "max     35000.000000   35000.000000     35000.000000      26.060000   \n",
              "\n",
              "         installment    annual_inc            dti    delinq_2yrs  \\\n",
              "count  466285.000000  4.662810e+05  466285.000000  466256.000000   \n",
              "mean      432.061201  7.327738e+04      17.218758       0.284678   \n",
              "std       243.485550  5.496357e+04       7.851121       0.797365   \n",
              "min        15.670000  1.896000e+03       0.000000       0.000000   \n",
              "25%       256.690000  4.500000e+04      11.360000       0.000000   \n",
              "50%       379.890000  6.300000e+04      16.870000       0.000000   \n",
              "75%       566.580000  8.896000e+04      22.780000       0.000000   \n",
              "max      1409.990000  7.500000e+06      39.990000      29.000000   \n",
              "\n",
              "       inq_last_6mths  mths_since_last_delinq  ...     recoveries  \\\n",
              "count   466256.000000           215934.000000  ...  466285.000000   \n",
              "mean         0.804745               34.104430  ...      85.344211   \n",
              "std          1.091598               21.778487  ...     552.216084   \n",
              "min          0.000000                0.000000  ...       0.000000   \n",
              "25%          0.000000               16.000000  ...       0.000000   \n",
              "50%          0.000000               31.000000  ...       0.000000   \n",
              "75%          1.000000               49.000000  ...       0.000000   \n",
              "max         33.000000              188.000000  ...   33520.270000   \n",
              "\n",
              "       collection_recovery_fee  last_pymnt_amnt  collections_12_mths_ex_med  \\\n",
              "count            466285.000000    466285.000000               466140.000000   \n",
              "mean                  8.961534      3123.913796                    0.009085   \n",
              "std                  85.491437      5554.737393                    0.108648   \n",
              "min                   0.000000         0.000000                    0.000000   \n",
              "25%                   0.000000       312.620000                    0.000000   \n",
              "50%                   0.000000       545.960000                    0.000000   \n",
              "75%                   0.000000      3187.510000                    0.000000   \n",
              "max                7002.190000     36234.440000                   20.000000   \n",
              "\n",
              "       mths_since_last_major_derog  policy_code  acc_now_delinq  tot_coll_amt  \\\n",
              "count                 98974.000000     466285.0   466256.000000  3.960090e+05   \n",
              "mean                     42.852547          1.0        0.004002  1.919135e+02   \n",
              "std                      21.662591          0.0        0.068637  1.463021e+04   \n",
              "min                       0.000000          1.0        0.000000  0.000000e+00   \n",
              "25%                      26.000000          1.0        0.000000  0.000000e+00   \n",
              "50%                      42.000000          1.0        0.000000  0.000000e+00   \n",
              "75%                      59.000000          1.0        0.000000  0.000000e+00   \n",
              "max                     188.000000          1.0        5.000000  9.152545e+06   \n",
              "\n",
              "        tot_cur_bal  total_rev_hi_lim  \n",
              "count  3.960090e+05      3.960090e+05  \n",
              "mean   1.388017e+05      3.037909e+04  \n",
              "std    1.521147e+05      3.724713e+04  \n",
              "min    0.000000e+00      0.000000e+00  \n",
              "25%    2.861800e+04      1.350000e+04  \n",
              "50%    8.153900e+04      2.280000e+04  \n",
              "75%    2.089530e+05      3.790000e+04  \n",
              "max    8.000078e+06      9.999999e+06  \n",
              "\n",
              "[8 rows x 33 columns]"
            ]
          },
          "execution_count": 51,
          "metadata": {},
          "output_type": "execute_result"
        }
      ],
      "source": [
        "num_df.describe()"
      ]
    },
    {
      "cell_type": "code",
      "execution_count": 52,
      "metadata": {
        "colab": {
          "base_uri": "https://localhost:8080/",
          "height": 0
        },
        "id": "5xSvEnYcT9BX",
        "outputId": "d22eb1e5-9c51-4d5b-aa58-eb7516b64643"
      },
      "outputs": [
        {
          "data": {
            "text/plain": [
              "<Figure size 720x576 with 0 Axes>"
            ]
          },
          "metadata": {},
          "output_type": "display_data"
        },
        {
          "data": {
            "image/png": "[encoded data removed]",
            "text/plain": [
              "<Figure size 1800x720 with 2 Axes>"
            ]
          },
          "metadata": {
            "needs_background": "light"
          },
          "output_type": "display_data"
        }
      ],
      "source": [
        "## Missing values numerical\n",
        "\n",
        "plt.figure(figsize=(10,8))\n",
        "msno.matrix(df.select_dtypes(exclude='object'))\n",
        "plt.show()"
      ]
    },
    {
      "cell_type": "code",
      "execution_count": 53,
      "metadata": {
        "colab": {
          "base_uri": "https://localhost:8080/"
        },
        "id": "o3T0Af61T_nP",
        "outputId": "79406e9e-638d-48dc-b279-a596bd1b1da7"
      },
      "outputs": [
        {
          "data": {
            "text/plain": [
              "loan_amnt                      0.000000\n",
              "funded_amnt                    0.000000\n",
              "funded_amnt_inv                0.000000\n",
              "int_rate                       0.000000\n",
              "installment                    0.000000\n",
              "annual_inc                     0.000009\n",
              "issue_d                        0.000000\n",
              "dti                            0.000000\n",
              "delinq_2yrs                    0.000062\n",
              "earliest_cr_line               0.000062\n",
              "inq_last_6mths                 0.000062\n",
              "mths_since_last_delinq         0.536906\n",
              "mths_since_last_record         0.865666\n",
              "open_acc                       0.000062\n",
              "pub_rec                        0.000062\n",
              "revol_bal                      0.000000\n",
              "revol_util                     0.000729\n",
              "total_acc                      0.000062\n",
              "out_prncp                      0.000000\n",
              "out_prncp_inv                  0.000000\n",
              "total_pymnt                    0.000000\n",
              "total_pymnt_inv                0.000000\n",
              "total_rec_prncp                0.000000\n",
              "total_rec_int                  0.000000\n",
              "total_rec_late_fee             0.000000\n",
              "recoveries                     0.000000\n",
              "collection_recovery_fee        0.000000\n",
              "last_pymnt_amnt                0.000000\n",
              "collections_12_mths_ex_med     0.000311\n",
              "mths_since_last_major_derog    0.787739\n",
              "policy_code                    0.000000\n",
              "acc_now_delinq                 0.000062\n",
              "tot_coll_amt                   0.150715\n",
              "tot_cur_bal                    0.150715\n",
              "total_rev_hi_lim               0.150715\n",
              "issue_m                        0.000000\n",
              "dtype: float64"
            ]
          },
          "execution_count": 53,
          "metadata": {},
          "output_type": "execute_result"
        }
      ],
      "source": [
        "num_df1 = df.select_dtypes(exclude='object')\n",
        "num_df1.isnull().mean()"
      ]
    },
    {
      "cell_type": "markdown",
      "metadata": {
        "id": "qWmruiKaT1AM"
      },
      "source": [
        "missing value yang diatas 0.5 akan di hapus agar data tetap bagus"
      ]
    },
    {
      "cell_type": "markdown",
      "metadata": {
        "id": "I_SFobpkUEP7"
      },
      "source": [
        "# Data Preprocessing"
      ]
    },
    {
      "cell_type": "code",
      "execution_count": 54,
      "metadata": {
        "id": "O3V8r1t8UC9q"
      },
      "outputs": [],
      "source": [
        "drop = [\n",
        "    'sub_grade', 'emp_title', 'issue_d', 'pymnt_plan',\n",
        "    'title', 'zip_code', 'earliest_cr_line', 'last_pymnt_d',\n",
        "    'next_pymnt_d', 'last_credit_pull_d', 'application_type',\n",
        "    'funded_amnt', 'funded_amnt_inv', 'installment', \n",
        "    'out_prncp_inv', 'total_pymnt_inv', 'total_rec_prncp',\n",
        "    'mths_since_last_delinq', 'mths_since_last_record', 'mths_since_last_major_derog'\n",
        "]\n",
        "\n",
        "df.drop(drop, axis=1, inplace=True)"
      ]
    },
    {
      "cell_type": "code",
      "execution_count": 55,
      "metadata": {
        "colab": {
          "base_uri": "https://localhost:8080/"
        },
        "id": "2yb7NSCRzn5c",
        "outputId": "1a5765e4-0609-40ee-dffd-a80640ef615e"
      },
      "outputs": [
        {
          "name": "stdout",
          "output_type": "stream",
          "text": [
            "<class 'pandas.core.frame.DataFrame'>\n",
            "RangeIndex: 466285 entries, 0 to 466284\n",
            "Data columns (total 34 columns):\n",
            " #   Column                      Non-Null Count   Dtype  \n",
            "---  ------                      --------------   -----  \n",
            " 0   loan_amnt                   466285 non-null  int64  \n",
            " 1   term                        466285 non-null  object \n",
            " 2   int_rate                    466285 non-null  float64\n",
            " 3   grade                       466285 non-null  object \n",
            " 4   emp_length                  445277 non-null  object \n",
            " 5   home_ownership              466285 non-null  object \n",
            " 6   annual_inc                  466281 non-null  float64\n",
            " 7   verification_status         466285 non-null  object \n",
            " 8   loan_status                 466285 non-null  object \n",
            " 9   purpose                     466285 non-null  object \n",
            " 10  addr_state                  466285 non-null  object \n",
            " 11  dti                         466285 non-null  float64\n",
            " 12  delinq_2yrs                 466256 non-null  float64\n",
            " 13  inq_last_6mths              466256 non-null  float64\n",
            " 14  open_acc                    466256 non-null  float64\n",
            " 15  pub_rec                     466256 non-null  float64\n",
            " 16  revol_bal                   466285 non-null  int64  \n",
            " 17  revol_util                  465945 non-null  float64\n",
            " 18  total_acc                   466256 non-null  float64\n",
            " 19  initial_list_status         466285 non-null  object \n",
            " 20  out_prncp                   466285 non-null  float64\n",
            " 21  total_pymnt                 466285 non-null  float64\n",
            " 22  total_rec_int               466285 non-null  float64\n",
            " 23  total_rec_late_fee          466285 non-null  float64\n",
            " 24  recoveries                  466285 non-null  float64\n",
            " 25  collection_recovery_fee     466285 non-null  float64\n",
            " 26  last_pymnt_amnt             466285 non-null  float64\n",
            " 27  collections_12_mths_ex_med  466140 non-null  float64\n",
            " 28  policy_code                 466285 non-null  int64  \n",
            " 29  acc_now_delinq              466256 non-null  float64\n",
            " 30  tot_coll_amt                396009 non-null  float64\n",
            " 31  tot_cur_bal                 396009 non-null  float64\n",
            " 32  total_rev_hi_lim            396009 non-null  float64\n",
            " 33  issue_m                     466285 non-null  int64  \n",
            "dtypes: float64(21), int64(4), object(9)\n",
            "memory usage: 121.0+ MB\n"
          ]
        }
      ],
      "source": [
        "df.info()"
      ]
    },
    {
      "cell_type": "code",
      "execution_count": 56,
      "metadata": {
        "colab": {
          "base_uri": "https://localhost:8080/",
          "height": 357
        },
        "id": "iaFfeqigUG53",
        "outputId": "1603b004-381d-496f-aef7-95a9fc2ed84f"
      },
      "outputs": [
        {
          "data": {
            "text/html": [
              "<div>\n",
              "<style scoped>\n",
              "    .dataframe tbody tr th:only-of-type {\n",
              "        vertical-align: middle;\n",
              "    }\n",
              "\n",
              "    .dataframe tbody tr th {\n",
              "        vertical-align: top;\n",
              "    }\n",
              "\n",
              "    .dataframe thead th {\n",
              "        text-align: right;\n",
              "    }\n",
              "</style>\n",
              "<table border=\"1\" class=\"dataframe\">\n",
              "  <thead>\n",
              "    <tr style=\"text-align: right;\">\n",
              "      <th></th>\n",
              "      <th>loan_amnt</th>\n",
              "      <th>term</th>\n",
              "      <th>int_rate</th>\n",
              "      <th>grade</th>\n",
              "      <th>emp_length</th>\n",
              "      <th>home_ownership</th>\n",
              "      <th>annual_inc</th>\n",
              "      <th>verification_status</th>\n",
              "      <th>loan_status</th>\n",
              "      <th>purpose</th>\n",
              "      <th>...</th>\n",
              "      <th>recoveries</th>\n",
              "      <th>collection_recovery_fee</th>\n",
              "      <th>last_pymnt_amnt</th>\n",
              "      <th>collections_12_mths_ex_med</th>\n",
              "      <th>policy_code</th>\n",
              "      <th>acc_now_delinq</th>\n",
              "      <th>tot_coll_amt</th>\n",
              "      <th>tot_cur_bal</th>\n",
              "      <th>total_rev_hi_lim</th>\n",
              "      <th>issue_m</th>\n",
              "    </tr>\n",
              "  </thead>\n",
              "  <tbody>\n",
              "    <tr>\n",
              "      <th>0</th>\n",
              "      <td>5000</td>\n",
              "      <td>36 months</td>\n",
              "      <td>10.65</td>\n",
              "      <td>B</td>\n",
              "      <td>10+ years</td>\n",
              "      <td>RENT</td>\n",
              "      <td>24000.0</td>\n",
              "      <td>Verified</td>\n",
              "      <td>0_good_loan</td>\n",
              "      <td>credit_card</td>\n",
              "      <td>...</td>\n",
              "      <td>0.00</td>\n",
              "      <td>0.00</td>\n",
              "      <td>171.62</td>\n",
              "      <td>0.0</td>\n",
              "      <td>1</td>\n",
              "      <td>0.0</td>\n",
              "      <td>NaN</td>\n",
              "      <td>NaN</td>\n",
              "      <td>NaN</td>\n",
              "      <td>12</td>\n",
              "    </tr>\n",
              "    <tr>\n",
              "      <th>1</th>\n",
              "      <td>2500</td>\n",
              "      <td>60 months</td>\n",
              "      <td>15.27</td>\n",
              "      <td>C</td>\n",
              "      <td>&lt; 1 year</td>\n",
              "      <td>RENT</td>\n",
              "      <td>30000.0</td>\n",
              "      <td>Source Verified</td>\n",
              "      <td>1_bad_loan</td>\n",
              "      <td>car</td>\n",
              "      <td>...</td>\n",
              "      <td>117.08</td>\n",
              "      <td>1.11</td>\n",
              "      <td>119.66</td>\n",
              "      <td>0.0</td>\n",
              "      <td>1</td>\n",
              "      <td>0.0</td>\n",
              "      <td>NaN</td>\n",
              "      <td>NaN</td>\n",
              "      <td>NaN</td>\n",
              "      <td>12</td>\n",
              "    </tr>\n",
              "    <tr>\n",
              "      <th>2</th>\n",
              "      <td>2400</td>\n",
              "      <td>36 months</td>\n",
              "      <td>15.96</td>\n",
              "      <td>C</td>\n",
              "      <td>10+ years</td>\n",
              "      <td>RENT</td>\n",
              "      <td>12252.0</td>\n",
              "      <td>Not Verified</td>\n",
              "      <td>0_good_loan</td>\n",
              "      <td>small_business</td>\n",
              "      <td>...</td>\n",
              "      <td>0.00</td>\n",
              "      <td>0.00</td>\n",
              "      <td>649.91</td>\n",
              "      <td>0.0</td>\n",
              "      <td>1</td>\n",
              "      <td>0.0</td>\n",
              "      <td>NaN</td>\n",
              "      <td>NaN</td>\n",
              "      <td>NaN</td>\n",
              "      <td>12</td>\n",
              "    </tr>\n",
              "    <tr>\n",
              "      <th>3</th>\n",
              "      <td>10000</td>\n",
              "      <td>36 months</td>\n",
              "      <td>13.49</td>\n",
              "      <td>C</td>\n",
              "      <td>10+ years</td>\n",
              "      <td>RENT</td>\n",
              "      <td>49200.0</td>\n",
              "      <td>Source Verified</td>\n",
              "      <td>0_good_loan</td>\n",
              "      <td>other</td>\n",
              "      <td>...</td>\n",
              "      <td>0.00</td>\n",
              "      <td>0.00</td>\n",
              "      <td>357.48</td>\n",
              "      <td>0.0</td>\n",
              "      <td>1</td>\n",
              "      <td>0.0</td>\n",
              "      <td>NaN</td>\n",
              "      <td>NaN</td>\n",
              "      <td>NaN</td>\n",
              "      <td>12</td>\n",
              "    </tr>\n",
              "    <tr>\n",
              "      <th>4</th>\n",
              "      <td>3000</td>\n",
              "      <td>60 months</td>\n",
              "      <td>12.69</td>\n",
              "      <td>B</td>\n",
              "      <td>1 year</td>\n",
              "      <td>RENT</td>\n",
              "      <td>80000.0</td>\n",
              "      <td>Source Verified</td>\n",
              "      <td>0_good_loan</td>\n",
              "      <td>other</td>\n",
              "      <td>...</td>\n",
              "      <td>0.00</td>\n",
              "      <td>0.00</td>\n",
              "      <td>67.79</td>\n",
              "      <td>0.0</td>\n",
              "      <td>1</td>\n",
              "      <td>0.0</td>\n",
              "      <td>NaN</td>\n",
              "      <td>NaN</td>\n",
              "      <td>NaN</td>\n",
              "      <td>12</td>\n",
              "    </tr>\n",
              "  </tbody>\n",
              "</table>\n",
              "<p>5 rows × 34 columns</p>\n",
              "</div>"
            ],
            "text/plain": [
              "   loan_amnt        term  int_rate grade emp_length home_ownership  \\\n",
              "0       5000   36 months     10.65     B  10+ years           RENT   \n",
              "1       2500   60 months     15.27     C   < 1 year           RENT   \n",
              "2       2400   36 months     15.96     C  10+ years           RENT   \n",
              "3      10000   36 months     13.49     C  10+ years           RENT   \n",
              "4       3000   60 months     12.69     B     1 year           RENT   \n",
              "\n",
              "   annual_inc verification_status  loan_status         purpose  ...  \\\n",
              "0     24000.0            Verified  0_good_loan     credit_card  ...   \n",
              "1     30000.0     Source Verified   1_bad_loan             car  ...   \n",
              "2     12252.0        Not Verified  0_good_loan  small_business  ...   \n",
              "3     49200.0     Source Verified  0_good_loan           other  ...   \n",
              "4     80000.0     Source Verified  0_good_loan           other  ...   \n",
              "\n",
              "  recoveries  collection_recovery_fee  last_pymnt_amnt  \\\n",
              "0       0.00                     0.00           171.62   \n",
              "1     117.08                     1.11           119.66   \n",
              "2       0.00                     0.00           649.91   \n",
              "3       0.00                     0.00           357.48   \n",
              "4       0.00                     0.00            67.79   \n",
              "\n",
              "   collections_12_mths_ex_med  policy_code  acc_now_delinq  tot_coll_amt  \\\n",
              "0                         0.0            1             0.0           NaN   \n",
              "1                         0.0            1             0.0           NaN   \n",
              "2                         0.0            1             0.0           NaN   \n",
              "3                         0.0            1             0.0           NaN   \n",
              "4                         0.0            1             0.0           NaN   \n",
              "\n",
              "   tot_cur_bal  total_rev_hi_lim issue_m  \n",
              "0          NaN               NaN      12  \n",
              "1          NaN               NaN      12  \n",
              "2          NaN               NaN      12  \n",
              "3          NaN               NaN      12  \n",
              "4          NaN               NaN      12  \n",
              "\n",
              "[5 rows x 34 columns]"
            ]
          },
          "execution_count": 56,
          "metadata": {},
          "output_type": "execute_result"
        }
      ],
      "source": [
        "df.head()"
      ]
    },
    {
      "cell_type": "code",
      "execution_count": 57,
      "metadata": {
        "id": "CeT19LTJa77j"
      },
      "outputs": [],
      "source": [
        "df_sample = df.head(n=10000)"
      ]
    },
    {
      "cell_type": "code",
      "execution_count": 58,
      "metadata": {
        "id": "cJgEXFrcUIEw"
      },
      "outputs": [],
      "source": [
        "X = df_sample.drop('loan_status', axis=1).copy()\n",
        "y = df_sample['loan_status'].copy()"
      ]
    },
    {
      "cell_type": "code",
      "execution_count": 59,
      "metadata": {
        "colab": {
          "base_uri": "https://localhost:8080/"
        },
        "id": "rb1bTmf9J1jA",
        "outputId": "96d05513-8c1a-4d9a-900b-1521296b781a"
      },
      "outputs": [
        {
          "data": {
            "text/plain": [
              "array([0, 1, 0, ..., 0, 0, 1])"
            ]
          },
          "execution_count": 59,
          "metadata": {},
          "output_type": "execute_result"
        }
      ],
      "source": [
        "le = LabelEncoder()\n",
        "y = le.fit_transform(y)\n",
        "y"
      ]
    },
    {
      "cell_type": "code",
      "execution_count": 60,
      "metadata": {
        "colab": {
          "base_uri": "https://localhost:8080/"
        },
        "id": "cb_RSUaQKlbw",
        "outputId": "b6fcd67a-d480-4e86-b455-1527e95709eb"
      },
      "outputs": [
        {
          "data": {
            "text/plain": [
              "['0_good_loan', '1_bad_loan']"
            ]
          },
          "execution_count": 60,
          "metadata": {},
          "output_type": "execute_result"
        }
      ],
      "source": [
        "list(le.classes_)"
      ]
    },
    {
      "cell_type": "markdown",
      "metadata": {
        "id": "rJ-qQ9Z7UR8g"
      },
      "source": [
        "## Train Test Split"
      ]
    },
    {
      "cell_type": "code",
      "execution_count": 61,
      "metadata": {
        "id": "mu4uhqxQUPf5"
      },
      "outputs": [],
      "source": [
        "X_train, X_test, y_train, y_test = train_test_split(X, y, test_size=0.2, stratify=y, random_state=42)"
      ]
    },
    {
      "cell_type": "markdown",
      "metadata": {
        "id": "yp7FUfangSyA"
      },
      "source": [
        "## Model"
      ]
    },
    {
      "cell_type": "code",
      "execution_count": null,
      "metadata": {
        "id": "3jybDBfmgRSW"
      },
      "outputs": [],
      "source": [
        "numeric_transformer = Pipeline([\n",
        "                                ('imputer', SimpleImputer(strategy='median')),\n",
        "                                ('scaler', StandardScaler())\n",
        "])\n",
        "\n",
        "categoric_transformer = Pipeline([\n",
        "                                  ('imputer', SimpleImputer(strategy='most_frequent')),\n",
        "                                  ('onehot', OneHotEncoder(handle_unknown='ignore'))\n",
        "])\n",
        "\n",
        "numeric_features = [\n",
        "                    'loan_amnt', 'int_rate', 'annual_inc', 'dti', 'delinq_2yrs',\n",
        "                    'inq_last_6mths', 'open_acc', 'pub_rec', 'revol_bal', 'revol_util',\n",
        "                    'total_acc', 'out_prncp', 'total_pymnt', 'total_rec_int',\n",
        "                    'total_rec_late_fee', 'recoveries', 'collection_recovery_fee',\n",
        "                    'last_pymnt_amnt', 'collections_12_mths_ex_med', 'acc_now_delinq',\n",
        "                    'tot_coll_amt', 'tot_cur_bal', 'total_rev_hi_lim', 'issue_m'\n",
        "]\n",
        "\n",
        "categoric_features = [col for col in X.select_dtypes(include='object').columns]\n",
        "\n",
        "preprocessor = ColumnTransformer([\n",
        "    ('numeric', numeric_transformer, numeric_features),\n",
        "    ('categoric', categoric_transformer, categoric_features)\n",
        "])"
      ]
    },
    {
      "cell_type": "code",
      "execution_count": 63,
      "metadata": {
        "colab": {
          "base_uri": "https://localhost:8080/",
          "height": 1000
        },
        "id": "dHMJ1FAOXeb5",
        "outputId": "402acb38-6337-4526-e280-64aca2af9cd8"
      },
      "outputs": [
        {
          "name": "stdout",
          "output_type": "stream",
          "text": [
            "Defined 53 models\n",
            "Defined 107 models\n",
            ">logistic: 0.909 (+/-0.018)\n",
            ">ridge-0.1: 0.676 (+/-0.035)\n",
            ">ridge-0.2: 0.676 (+/-0.035)\n",
            ">ridge-0.3: 0.676 (+/-0.035)\n",
            ">ridge-0.4: 0.676 (+/-0.035)\n",
            ">ridge-0.5: 0.676 (+/-0.035)\n",
            ">ridge-0.6: 0.676 (+/-0.035)\n",
            ">ridge-0.7: 0.676 (+/-0.035)\n",
            ">ridge-0.8: 0.676 (+/-0.035)\n",
            ">ridge-0.9: 0.676 (+/-0.035)\n",
            ">ridge-1.0: 0.676 (+/-0.035)\n",
            ">sgd: 0.924 (+/-0.020)\n",
            ">pa: 0.918 (+/-0.022)\n",
            ">knn-1: 0.508 (+/-0.025)\n",
            ">knn-2: 0.472 (+/-0.038)\n",
            ">knn-3: 0.538 (+/-0.037)\n",
            ">knn-4: 0.492 (+/-0.043)\n",
            ">knn-5: 0.547 (+/-0.043)\n",
            ">knn-6: 0.504 (+/-0.048)\n",
            ">knn-7: 0.540 (+/-0.049)\n",
            ">knn-8: 0.496 (+/-0.047)\n",
            ">knn-9: 0.518 (+/-0.048)\n",
            ">knn-10: 0.480 (+/-0.048)\n",
            ">knn-11: 0.521 (+/-0.052)\n",
            ">knn-12: 0.474 (+/-0.048)\n",
            ">knn-13: 0.510 (+/-0.048)\n",
            ">knn-14: 0.475 (+/-0.044)\n",
            ">knn-15: 0.500 (+/-0.037)\n",
            ">knn-16: 0.464 (+/-0.035)\n",
            ">knn-17: 0.490 (+/-0.038)\n",
            ">knn-18: 0.462 (+/-0.035)\n",
            ">knn-19: 0.483 (+/-0.036)\n",
            ">knn-20: 0.457 (+/-0.037)\n",
            ">cart: 0.938 (+/-0.019)\n",
            ">extra: 0.635 (+/-0.050)\n",
            ">svml: 0.932 (+/-0.014)\n",
            ">svmp: 0.730 (+/-0.036)\n",
            ">svmr0.1: 0.570 (+/-0.042)\n",
            ">svmr0.2: 0.692 (+/-0.040)\n",
            ">svmr0.3: 0.739 (+/-0.037)\n",
            ">svmr0.4: 0.768 (+/-0.038)\n",
            ">svmr0.5: 0.788 (+/-0.032)\n",
            ">svmr0.6: 0.804 (+/-0.030)\n",
            ">svmr0.7: 0.814 (+/-0.029)\n",
            ">svmr0.8: 0.823 (+/-0.032)\n",
            ">svmr0.9: 0.832 (+/-0.031)\n",
            ">svmr1.0: 0.839 (+/-0.029)\n",
            ">bayes: error\n",
            ">ada: 0.957 (+/-0.012)\n",
            ">bag: 0.961 (+/-0.013)\n",
            ">rf: 0.914 (+/-0.012)\n",
            ">et: 0.843 (+/-0.029)\n",
            ">gbm: 0.954 (+/-0.012)\n",
            ">xgb-[0.001, 50, 0.5, 3]: 0.885 (+/-0.019)\n",
            ">xgb-[0.001, 50, 0.5, 7]: 0.935 (+/-0.017)\n",
            ">xgb-[0.001, 50, 0.5, 9]: 0.937 (+/-0.018)\n",
            ">xgb-[0.001, 50, 0.7, 3]: 0.883 (+/-0.019)\n",
            ">xgb-[0.001, 50, 0.7, 7]: 0.933 (+/-0.017)\n",
            ">xgb-[0.001, 50, 0.7, 9]: 0.941 (+/-0.018)\n",
            ">xgb-[0.001, 50, 1.0, 3]: 0.883 (+/-0.019)\n",
            ">xgb-[0.001, 50, 1.0, 7]: 0.932 (+/-0.018)\n",
            ">xgb-[0.001, 50, 1.0, 9]: 0.939 (+/-0.023)\n",
            ">xgb-[0.001, 100, 0.5, 3]: 0.885 (+/-0.020)\n",
            ">xgb-[0.001, 100, 0.5, 7]: 0.935 (+/-0.016)\n",
            ">xgb-[0.001, 100, 0.5, 9]: 0.938 (+/-0.020)\n",
            ">xgb-[0.001, 100, 0.7, 3]: 0.884 (+/-0.019)\n",
            ">xgb-[0.001, 100, 0.7, 7]: 0.934 (+/-0.018)\n",
            ">xgb-[0.001, 100, 0.7, 9]: 0.940 (+/-0.021)\n",
            ">xgb-[0.001, 100, 1.0, 3]: 0.883 (+/-0.019)\n",
            ">xgb-[0.001, 100, 1.0, 7]: 0.932 (+/-0.019)\n",
            ">xgb-[0.001, 100, 1.0, 9]: 0.939 (+/-0.023)\n",
            ">xgb-[0.01, 50, 0.5, 3]: 0.888 (+/-0.023)\n",
            ">xgb-[0.01, 50, 0.5, 7]: 0.937 (+/-0.017)\n",
            ">xgb-[0.01, 50, 0.5, 9]: 0.941 (+/-0.019)\n",
            ">xgb-[0.01, 50, 0.7, 3]: 0.888 (+/-0.022)\n",
            ">xgb-[0.01, 50, 0.7, 7]: 0.935 (+/-0.018)\n",
            ">xgb-[0.01, 50, 0.7, 9]: 0.945 (+/-0.019)\n",
            ">xgb-[0.01, 50, 1.0, 3]: 0.890 (+/-0.023)\n",
            ">xgb-[0.01, 50, 1.0, 7]: 0.933 (+/-0.019)\n",
            ">xgb-[0.01, 50, 1.0, 9]: 0.945 (+/-0.022)\n",
            ">xgb-[0.01, 100, 0.5, 3]: 0.902 (+/-0.015)\n",
            ">xgb-[0.01, 100, 0.5, 7]: 0.940 (+/-0.020)\n",
            ">xgb-[0.01, 100, 0.5, 9]: 0.945 (+/-0.020)\n",
            ">xgb-[0.01, 100, 0.7, 3]: 0.903 (+/-0.015)\n",
            ">xgb-[0.01, 100, 0.7, 7]: 0.941 (+/-0.020)\n",
            ">xgb-[0.01, 100, 0.7, 9]: 0.952 (+/-0.016)\n",
            ">xgb-[0.01, 100, 1.0, 3]: 0.904 (+/-0.015)\n",
            ">xgb-[0.01, 100, 1.0, 7]: 0.942 (+/-0.017)\n",
            ">xgb-[0.01, 100, 1.0, 9]: 0.954 (+/-0.016)\n",
            ">xgb-[0.1, 50, 0.5, 3]: 0.935 (+/-0.017)\n",
            ">xgb-[0.1, 50, 0.5, 7]: 0.962 (+/-0.011)\n",
            ">xgb-[0.1, 50, 0.5, 9]: 0.961 (+/-0.013)\n",
            ">xgb-[0.1, 50, 0.7, 3]: 0.933 (+/-0.015)\n",
            ">xgb-[0.1, 50, 0.7, 7]: 0.963 (+/-0.014)\n",
            ">xgb-[0.1, 50, 0.7, 9]: 0.964 (+/-0.012)\n",
            ">xgb-[0.1, 50, 1.0, 3]: 0.931 (+/-0.015)\n",
            ">xgb-[0.1, 50, 1.0, 7]: 0.966 (+/-0.014)\n",
            ">xgb-[0.1, 50, 1.0, 9]: 0.965 (+/-0.013)\n",
            ">xgb-[0.1, 100, 0.5, 3]: 0.953 (+/-0.011)\n",
            ">xgb-[0.1, 100, 0.5, 7]: 0.965 (+/-0.013)\n",
            ">xgb-[0.1, 100, 0.5, 9]: 0.963 (+/-0.011)\n",
            ">xgb-[0.1, 100, 0.7, 3]: 0.954 (+/-0.011)\n",
            ">xgb-[0.1, 100, 0.7, 7]: 0.968 (+/-0.013)\n",
            ">xgb-[0.1, 100, 0.7, 9]: 0.965 (+/-0.013)\n",
            ">xgb-[0.1, 100, 1.0, 3]: 0.954 (+/-0.010)\n",
            ">xgb-[0.1, 100, 1.0, 7]: 0.968 (+/-0.012)\n",
            ">xgb-[0.1, 100, 1.0, 9]: 0.969 (+/-0.012)\n",
            "\n",
            "Rank=1, Name=xgb-[0.1, 100, 1.0, 9], Score=0.969 (+/- 0.012)\n",
            "Rank=2, Name=xgb-[0.1, 100, 1.0, 7], Score=0.968 (+/- 0.012)\n",
            "Rank=3, Name=xgb-[0.1, 100, 0.7, 7], Score=0.968 (+/- 0.013)\n",
            "Rank=4, Name=xgb-[0.1, 50, 1.0, 7], Score=0.966 (+/- 0.014)\n",
            "Rank=5, Name=xgb-[0.1, 100, 0.7, 9], Score=0.965 (+/- 0.013)\n",
            "Rank=6, Name=xgb-[0.1, 50, 1.0, 9], Score=0.965 (+/- 0.013)\n",
            "Rank=7, Name=xgb-[0.1, 100, 0.5, 7], Score=0.965 (+/- 0.013)\n",
            "Rank=8, Name=xgb-[0.1, 50, 0.7, 9], Score=0.964 (+/- 0.012)\n",
            "Rank=9, Name=xgb-[0.1, 50, 0.7, 7], Score=0.963 (+/- 0.014)\n",
            "Rank=10, Name=xgb-[0.1, 100, 0.5, 9], Score=0.963 (+/- 0.011)\n"
          ]
        },
        {
          "data": {
            "image/png": "[encoded data removed]",
            "text/plain": [
              "<Figure size 432x288 with 1 Axes>"
            ]
          },
          "metadata": {
            "needs_background": "light"
          },
          "output_type": "display_data"
        }
      ],
      "source": [
        " # load the dataset, returns X and y elements\n",
        "def load_dataset():\n",
        "\treturn make_classification(n_samples=1000, n_classes=2, random_state=1)\n",
        " \n",
        "# create a dict of standard models to evaluate {name:object}\n",
        "def define_models(models=dict()):\n",
        "\t# linear models\n",
        "\tmodels['logistic'] = LogisticRegression()\n",
        "\talpha = [0.1, 0.2, 0.3, 0.4, 0.5, 0.6, 0.7, 0.8, 0.9, 1.0]\n",
        "\tfor a in alpha:\n",
        "\t\tmodels['ridge-'+str(a)] = RidgeClassifier(alpha=a)\n",
        "\tmodels['sgd'] = SGDClassifier(max_iter=1000, tol=1e-3)\n",
        "\tmodels['pa'] = PassiveAggressiveClassifier(max_iter=1000, tol=1e-3)\n",
        "\t# non-linear models\n",
        "\tn_neighbors = range(1, 21)\n",
        "\tfor k in n_neighbors:\n",
        "\t\tmodels['knn-'+str(k)] = KNeighborsClassifier(n_neighbors=k)\n",
        "\tmodels['cart'] = DecisionTreeClassifier()\n",
        "\tmodels['extra'] = ExtraTreeClassifier()\n",
        "\tmodels['svml'] = SVC(kernel='linear')\n",
        "\tmodels['svmp'] = SVC(kernel='poly')\n",
        "\tc_values = [0.1, 0.2, 0.3, 0.4, 0.5, 0.6, 0.7, 0.8, 0.9, 1.0]\n",
        "\tfor c in c_values:\n",
        "\t\tmodels['svmr'+str(c)] = SVC(C=c)\n",
        "\tmodels['bayes'] = GaussianNB()\n",
        "\t# ensemble models\n",
        "\tn_trees = 100\n",
        "\tmodels['ada'] = AdaBoostClassifier(n_estimators=n_trees)\n",
        "\tmodels['bag'] = BaggingClassifier(n_estimators=n_trees)\n",
        "\tmodels['rf'] = RandomForestClassifier(n_estimators=n_trees)\n",
        "\tmodels['et'] = ExtraTreesClassifier(n_estimators=n_trees)\n",
        "\tmodels['gbm'] = GradientBoostingClassifier(n_estimators=n_trees)\n",
        "\tprint('Defined %d models' % len(models))\n",
        "\treturn models\n",
        " \n",
        "# define gradient boosting models\n",
        "def define_gbm_models(models=dict(), use_xgb=True):\n",
        "\t# define config ranges\n",
        "\trates = [0.001, 0.01, 0.1]\n",
        "\ttrees = [50, 100]\n",
        "\tss = [0.5, 0.7, 1.0]\n",
        "\tdepth = [3, 7, 9]\n",
        "\t# add configurations\n",
        "\tfor l in rates:\n",
        "\t\tfor e in trees:\n",
        "\t\t\tfor s in ss:\n",
        "\t\t\t\tfor d in depth:\n",
        "\t\t\t\t\tcfg = [l, e, s, d]\n",
        "\t\t\t\t\tif use_xgb:\n",
        "\t\t\t\t\t\tname = 'xgb-' + str(cfg)\n",
        "\t\t\t\t\t\tmodels[name] = XGBClassifier(learning_rate=l, n_estimators=e, subsample=s, max_depth=d)\n",
        "\t\t\t\t\telse:\n",
        "\t\t\t\t\t\tname = 'gbm-' + str(cfg)\n",
        "\t\t\t\t\t\tmodels[name] = GradientBoostingClassifier(learning_rate=l, n_estimators=e, subsample=s, max_depth=d)\n",
        "\tprint('Defined %d models' % len(models))\n",
        "\treturn models\n",
        " \n",
        "# create a feature preparation pipeline for a model\n",
        "def make_pipeline(model):\n",
        "  steps = list()\n",
        "  steps.append(('preprocessor', preprocessor))\n",
        "  steps.append(('model', model))\n",
        "  pipeline = Pipeline(steps=steps)\n",
        "  return pipeline\n",
        " \n",
        "# evaluate a single model\n",
        "def evaluate_model(X, y, model, folds, metric):\n",
        "\t# create the pipeline\n",
        "\tpipeline = make_pipeline(model)\n",
        "\t# evaluate model\n",
        "\tscores = cross_val_score(pipeline, X, y, scoring=metric, cv=folds, n_jobs=-1)\n",
        "\treturn scores\n",
        " \n",
        "# evaluate a model and try to trap errors and and hide warnings\n",
        "def robust_evaluate_model(X, y, model, folds, metric):\n",
        "\tscores = None\n",
        "\ttry:\n",
        "\t\twith warnings.catch_warnings():\n",
        "\t\t\twarnings.filterwarnings(\"ignore\")\n",
        "\t\t\tscores = evaluate_model(X, y, model, folds, metric)\n",
        "\texcept:\n",
        "\t\tscores = None\n",
        "\treturn scores\n",
        " \n",
        "# evaluate a dict of models {name:object}, returns {name:score}\n",
        "def evaluate_models(X, y, models, folds=10, metric='f1'):\n",
        "\tresults = dict()\n",
        "\tfor name, model in models.items():\n",
        "\t\t# evaluate the model\n",
        "\t\tscores = robust_evaluate_model(X, y, model, folds, metric)\n",
        "\t\t# show process\n",
        "\t\tif scores is not None:\n",
        "\t\t\t# store a result\n",
        "\t\t\tresults[name] = scores\n",
        "\t\t\tmean_score, std_score = mean(scores), std(scores)\n",
        "\t\t\tprint('>%s: %.3f (+/-%.3f)' % (name, mean_score, std_score))\n",
        "\t\telse:\n",
        "\t\t\tprint('>%s: error' % name)\n",
        "\treturn results\n",
        " \n",
        "# print and plot the top n results\n",
        "def summarize_results(results, maximize=True, top_n=10):\n",
        "\t# check for no results\n",
        "\tif len(results) == 0:\n",
        "\t\tprint('no results')\n",
        "\t\treturn\n",
        "\t# determine how many results to summarize\n",
        "\tn = min(top_n, len(results))\n",
        "\t# create a list of (name, mean(scores)) tuples\n",
        "\tmean_scores = [(k,mean(v)) for k,v in results.items()]\n",
        "\t# sort tuples by mean score\n",
        "\tmean_scores = sorted(mean_scores, key=lambda x: x[1])\n",
        "\t# reverse for descending order (e.g. for accuracy)\n",
        "\tif maximize:\n",
        "\t\tmean_scores = list(reversed(mean_scores))\n",
        "\t# retrieve the top n for summarization\n",
        "\tnames = [x[0] for x in mean_scores[:n]]\n",
        "\tscores = [results[x[0]] for x in mean_scores[:n]]\n",
        "\t# print the top n\n",
        "\tprint()\n",
        "\tfor i in range(n):\n",
        "\t\tname = names[i]\n",
        "\t\tmean_score, std_score = mean(results[name]), std(results[name])\n",
        "\t\tprint('Rank=%d, Name=%s, Score=%.3f (+/- %.3f)' % (i+1, name, mean_score, std_score))\n",
        "\t# boxplot for the top n\n",
        "\tplt.boxplot(scores, labels=names)\n",
        "\t_, labels = plt.xticks()\n",
        "\tplt.setp(labels, rotation=90)\n",
        "\tplt.savefig('spotcheck.png')\n",
        " \n",
        "# get model list\n",
        "models = define_models()\n",
        "# add gbm models\n",
        "models = define_gbm_models(models)\n",
        "# evaluate models\n",
        "results = evaluate_models(X_train, y_train, models)\n",
        "# summarize results\n",
        "summarize_results(results)"
      ]
    },
    {
      "cell_type": "code",
      "execution_count": null,
      "metadata": {},
      "outputs": [],
      "source": []
    },
    {
      "cell_type": "markdown",
      "metadata": {
        "id": "Rjjt4gqSp8_P"
      },
      "source": [
        "# Semua fitur vs Numerical"
      ]
    },
    {
      "cell_type": "markdown",
      "metadata": {
        "id": "O1MKZj-ukpEe"
      },
      "source": [
        "## Train Model dengan menggunakan semua fitur"
      ]
    },
    {
      "cell_type": "code",
      "execution_count": 64,
      "metadata": {
        "id": "shxwXkpIIoC_"
      },
      "outputs": [],
      "source": [
        "X = df.drop('loan_status', axis=1).copy()\n",
        "y = df['loan_status'].copy()\n",
        "\n",
        "y = le.fit_transform(y)\n",
        "\n",
        "X_train, X_test, y_train, y_test = train_test_split(X, y, test_size=0.2, stratify=y, random_state=42)\n",
        "\n",
        "xgb_pipeline = Pipeline([\n",
        "                         ('preprocessor', preprocessor),\n",
        "                         ('xgb_clf', XGBClassifier(learning_rate=0.1, n_estimators=100, subsample=1.0, max_depth=9))\n",
        "])\n",
        "\n",
        "xgb_cv = cross_val_score(xgb_pipeline, X_train, y_train, scoring='f1', cv=3)"
      ]
    },
    {
      "cell_type": "code",
      "execution_count": 65,
      "metadata": {
        "colab": {
          "base_uri": "https://localhost:8080/"
        },
        "id": "fMCyh3EHesOl",
        "outputId": "4490d1fb-711e-43cb-8dfd-8e76c0d928c8"
      },
      "outputs": [
        {
          "name": "stdout",
          "output_type": "stream",
          "text": [
            "Train Score = 0.8864233625971649\n",
            "Test Score = 0.8926334625708321\n"
          ]
        }
      ],
      "source": [
        "xgb_model = xgb_pipeline.fit(X_train, y_train)\n",
        "y_pred = xgb_model.predict(X_test)\n",
        "\n",
        "f1 = f1_score(y_test, y_pred)\n",
        "\n",
        "print(f'Train Score = {np.mean(xgb_cv)}')\n",
        "print(f'Test Score = {f1}')"
      ]
    },
    {
      "cell_type": "code",
      "execution_count": 66,
      "metadata": {
        "colab": {
          "base_uri": "https://localhost:8080/",
          "height": 351
        },
        "id": "dh-0FZKPK2dX",
        "outputId": "c5ed51a8-9bb5-47a4-d30a-7a748b42219d"
      },
      "outputs": [
        {
          "name": "stderr",
          "output_type": "stream",
          "text": [
            "c:\\Users\\hp\\AppData\\Local\\Programs\\Python\\Python39\\lib\\site-packages\\sklearn\\utils\\deprecation.py:87: FutureWarning: Function plot_confusion_matrix is deprecated; Function `plot_confusion_matrix` is deprecated in 1.0 and will be removed in 1.2. Use one of the class methods: ConfusionMatrixDisplay.from_predictions or ConfusionMatrixDisplay.from_estimator.\n",
            "  warnings.warn(msg, category=FutureWarning)\n"
          ]
        },
        {
          "data": {
            "text/plain": [
              "<sklearn.metrics._plot.confusion_matrix.ConfusionMatrixDisplay at 0x2e0398b4cd0>"
            ]
          },
          "execution_count": 66,
          "metadata": {},
          "output_type": "execute_result"
        },
        {
          "data": {
            "image/png": "[encoded data removed]",
            "text/plain": [
              "<Figure size 432x288 with 2 Axes>"
            ]
          },
          "metadata": {
            "needs_background": "light"
          },
          "output_type": "display_data"
        }
      ],
      "source": [
        "plot_confusion_matrix(xgb_model, X_test, y_test)"
      ]
    },
    {
      "cell_type": "code",
      "execution_count": 67,
      "metadata": {
        "colab": {
          "base_uri": "https://localhost:8080/"
        },
        "id": "lDPCK05NT0J8",
        "outputId": "4ea51243-ce93-4434-8348-46f1fe34c65e"
      },
      "outputs": [
        {
          "name": "stdout",
          "output_type": "stream",
          "text": [
            "              precision    recall  f1-score   support\n",
            "\n",
            "           0       0.98      1.00      0.99     82191\n",
            "           1       0.99      0.81      0.89     11066\n",
            "\n",
            "    accuracy                           0.98     93257\n",
            "   macro avg       0.98      0.91      0.94     93257\n",
            "weighted avg       0.98      0.98      0.98     93257\n",
            "\n"
          ]
        }
      ],
      "source": [
        "from sklearn.metrics import classification_report\n",
        "\n",
        "print(classification_report(y_test, y_pred))"
      ]
    },
    {
      "cell_type": "markdown",
      "metadata": {
        "id": "rAOJEgrqkuCJ"
      },
      "source": [
        "## Train model dengan numerical"
      ]
    },
    {
      "cell_type": "code",
      "execution_count": 68,
      "metadata": {
        "id": "hKdfNA1Jkyrz"
      },
      "outputs": [],
      "source": [
        "numeric = df.select_dtypes(exclude='object').copy()\n",
        "\n",
        "X = numeric.copy()\n",
        "y = df['loan_status'].copy()"
      ]
    },
    {
      "cell_type": "code",
      "execution_count": 69,
      "metadata": {
        "id": "z2nEYRizlBLC"
      },
      "outputs": [],
      "source": [
        "y = le.fit_transform(y)\n",
        "\n",
        "X_train, X_test, y_train, y_test = train_test_split(X, y, test_size=0.2, stratify=y, random_state=42)\n",
        "\n",
        "numeric_transformer = Pipeline([\n",
        "                                ('imputer', SimpleImputer(strategy='median')),\n",
        "                                ('scaler', StandardScaler())\n",
        "])\n",
        "\n",
        "numeric_features = [\n",
        "                    'loan_amnt', 'int_rate', 'annual_inc', 'dti', 'delinq_2yrs',\n",
        "                    'inq_last_6mths', 'open_acc', 'pub_rec', 'revol_bal', 'revol_util',\n",
        "                    'total_acc', 'out_prncp', 'total_pymnt', 'total_rec_int',\n",
        "                    'total_rec_late_fee', 'recoveries', 'collection_recovery_fee',\n",
        "                    'last_pymnt_amnt', 'collections_12_mths_ex_med', 'acc_now_delinq',\n",
        "                    'tot_coll_amt', 'tot_cur_bal', 'total_rev_hi_lim', 'issue_m'\n",
        "]\n",
        "\n",
        "preprocessor = ColumnTransformer([\n",
        "    ('numeric', numeric_transformer, numeric_features)\n",
        "])\n",
        "\n",
        "xgb_pipeline = Pipeline([\n",
        "                         ('preprocessor', preprocessor),\n",
        "                         ('xgb_clf', XGBClassifier(learning_rate=0.1, n_estimators=100, subsample=1.0, max_depth=9))\n",
        "])\n",
        "\n",
        "xgb_cv = cross_val_score(xgb_pipeline, X_train, y_train, scoring='f1', cv=3)"
      ]
    },
    {
      "cell_type": "code",
      "execution_count": 70,
      "metadata": {
        "colab": {
          "base_uri": "https://localhost:8080/"
        },
        "id": "3AtOPsGFlgmW",
        "outputId": "f3fbf245-d320-4baa-9aaf-31c2447f8ef9"
      },
      "outputs": [
        {
          "name": "stdout",
          "output_type": "stream",
          "text": [
            "Train Score = 0.8848725024214014\n",
            "Test Score = 0.889884508164078\n"
          ]
        }
      ],
      "source": [
        "xgb_model = xgb_pipeline.fit(X_train, y_train)\n",
        "y_pred = xgb_model.predict(X_test)\n",
        "f1 = f1_score(y_test, y_pred)\n",
        "\n",
        "print(f'Train Score = {np.mean(xgb_cv)}')\n",
        "print(f'Test Score = {f1}')"
      ]
    },
    {
      "cell_type": "code",
      "execution_count": 71,
      "metadata": {
        "colab": {
          "base_uri": "https://localhost:8080/",
          "height": 351
        },
        "id": "LTW0n_sIlhLx",
        "outputId": "aea85f98-463c-4131-946a-ce931f5ab0fd"
      },
      "outputs": [
        {
          "name": "stderr",
          "output_type": "stream",
          "text": [
            "c:\\Users\\hp\\AppData\\Local\\Programs\\Python\\Python39\\lib\\site-packages\\sklearn\\utils\\deprecation.py:87: FutureWarning: Function plot_confusion_matrix is deprecated; Function `plot_confusion_matrix` is deprecated in 1.0 and will be removed in 1.2. Use one of the class methods: ConfusionMatrixDisplay.from_predictions or ConfusionMatrixDisplay.from_estimator.\n",
            "  warnings.warn(msg, category=FutureWarning)\n"
          ]
        },
        {
          "data": {
            "text/plain": [
              "<sklearn.metrics._plot.confusion_matrix.ConfusionMatrixDisplay at 0x2e00c4259a0>"
            ]
          },
          "execution_count": 71,
          "metadata": {},
          "output_type": "execute_result"
        },
        {
          "data": {
            "image/png": "[encoded data removed]",
            "text/plain": [
              "<Figure size 432x288 with 2 Axes>"
            ]
          },
          "metadata": {
            "needs_background": "light"
          },
          "output_type": "display_data"
        }
      ],
      "source": [
        "plot_confusion_matrix(xgb_model, X_test, y_test)"
      ]
    },
    {
      "cell_type": "code",
      "execution_count": 72,
      "metadata": {
        "colab": {
          "base_uri": "https://localhost:8080/"
        },
        "id": "2Durd_6ZljrI",
        "outputId": "6e42bd36-c35c-4085-fe4d-df1622a9c788"
      },
      "outputs": [
        {
          "name": "stdout",
          "output_type": "stream",
          "text": [
            "              precision    recall  f1-score   support\n",
            "\n",
            "           0       0.97      1.00      0.99     82191\n",
            "           1       0.99      0.81      0.89     11066\n",
            "\n",
            "    accuracy                           0.98     93257\n",
            "   macro avg       0.98      0.90      0.94     93257\n",
            "weighted avg       0.98      0.98      0.98     93257\n",
            "\n"
          ]
        }
      ],
      "source": [
        "print(classification_report(y_test, y_pred))"
      ]
    },
    {
      "cell_type": "markdown",
      "metadata": {
        "id": "583zfRR3ntQM"
      },
      "source": [
        "dari hasil diatas jika kita membuat model tidak dengan menggunakan fitur kategori maka kompleksitas model menurun dan resiko overfitting juga menurun"
      ]
    },
    {
      "cell_type": "code",
      "execution_count": 73,
      "metadata": {
        "colab": {
          "base_uri": "https://localhost:8080/",
          "height": 334
        },
        "id": "3dYSyVnKtY70",
        "outputId": "1417b1a1-eafe-45fb-f20a-6939827a74de"
      },
      "outputs": [
        {
          "name": "stderr",
          "output_type": "stream",
          "text": [
            "c:\\Users\\hp\\AppData\\Local\\Programs\\Python\\Python39\\lib\\site-packages\\sklearn\\metrics\\_classification.py:1327: UndefinedMetricWarning: Precision is ill-defined and being set to 0.0 due to no predicted samples. Use `zero_division` parameter to control this behavior.\n",
            "  _warn_prf(average, modifier, msg_start, len(result))\n"
          ]
        },
        {
          "data": {
            "image/png": "[encoded data removed]",
            "text/plain": [
              "<Figure size 432x288 with 1 Axes>"
            ]
          },
          "metadata": {
            "needs_background": "light"
          },
          "output_type": "display_data"
        }
      ],
      "source": [
        "predictions = xgb_model.predict_proba(X_test)\n",
        "\n",
        "thresholds = np.linspace(0, 1, 101)\n",
        "precision_scores = []\n",
        "recall_scores = []\n",
        "for threshold in thresholds:\n",
        "    adjusted_predictions = [1 if p > threshold else 0 for p in predictions[:,1]]\n",
        "    precision_scores.append(precision_score(y_test, adjusted_predictions))\n",
        "    recall_scores.append(recall_score(y_test, adjusted_predictions))\n",
        "plt.plot(thresholds[:-1], precision_scores[:-1], label=\"precision\")\n",
        "plt.plot(thresholds[:-1], recall_scores[:-1], label=\"recall\")\n",
        "plt.xlabel('Threshold')\n",
        "plt.legend()\n",
        "plt.grid()\n",
        "plt.show()"
      ]
    },
    {
      "cell_type": "code",
      "execution_count": 74,
      "metadata": {
        "colab": {
          "base_uri": "https://localhost:8080/"
        },
        "id": "sGWo6lUBF0XU",
        "outputId": "0e682500-3248-4d86-b2ca-026df2071478"
      },
      "outputs": [
        {
          "data": {
            "text/plain": [
              "0_good_loan    0.881334\n",
              "1_bad_loan     0.118666\n",
              "Name: loan_status, dtype: float64"
            ]
          },
          "execution_count": 74,
          "metadata": {},
          "output_type": "execute_result"
        }
      ],
      "source": [
        "df['loan_status'].value_counts(normalize=True)"
      ]
    },
    {
      "cell_type": "code",
      "execution_count": 75,
      "metadata": {
        "colab": {
          "base_uri": "https://localhost:8080/",
          "height": 394
        },
        "id": "8e0lsP0URVRx",
        "outputId": "c399cde5-b309-493d-d5d4-04779cecf979"
      },
      "outputs": [
        {
          "data": {
            "text/html": [
              "<div>\n",
              "<style scoped>\n",
              "    .dataframe tbody tr th:only-of-type {\n",
              "        vertical-align: middle;\n",
              "    }\n",
              "\n",
              "    .dataframe tbody tr th {\n",
              "        vertical-align: top;\n",
              "    }\n",
              "\n",
              "    .dataframe thead th {\n",
              "        text-align: right;\n",
              "    }\n",
              "</style>\n",
              "<table border=\"1\" class=\"dataframe\">\n",
              "  <thead>\n",
              "    <tr style=\"text-align: right;\">\n",
              "      <th></th>\n",
              "      <th>precision</th>\n",
              "      <th>recall</th>\n",
              "      <th>threshold</th>\n",
              "    </tr>\n",
              "  </thead>\n",
              "  <tbody>\n",
              "    <tr>\n",
              "      <th>0</th>\n",
              "      <td>0.118661</td>\n",
              "      <td>1.000000</td>\n",
              "      <td>0.00</td>\n",
              "    </tr>\n",
              "    <tr>\n",
              "      <th>1</th>\n",
              "      <td>0.189062</td>\n",
              "      <td>0.998102</td>\n",
              "      <td>0.01</td>\n",
              "    </tr>\n",
              "    <tr>\n",
              "      <th>2</th>\n",
              "      <td>0.233053</td>\n",
              "      <td>0.992590</td>\n",
              "      <td>0.02</td>\n",
              "    </tr>\n",
              "    <tr>\n",
              "      <th>3</th>\n",
              "      <td>0.305130</td>\n",
              "      <td>0.979939</td>\n",
              "      <td>0.03</td>\n",
              "    </tr>\n",
              "    <tr>\n",
              "      <th>4</th>\n",
              "      <td>0.403151</td>\n",
              "      <td>0.962046</td>\n",
              "      <td>0.04</td>\n",
              "    </tr>\n",
              "    <tr>\n",
              "      <th>5</th>\n",
              "      <td>0.517055</td>\n",
              "      <td>0.943792</td>\n",
              "      <td>0.05</td>\n",
              "    </tr>\n",
              "    <tr>\n",
              "      <th>6</th>\n",
              "      <td>0.625822</td>\n",
              "      <td>0.928610</td>\n",
              "      <td>0.06</td>\n",
              "    </tr>\n",
              "    <tr>\n",
              "      <th>7</th>\n",
              "      <td>0.716773</td>\n",
              "      <td>0.915236</td>\n",
              "      <td>0.07</td>\n",
              "    </tr>\n",
              "    <tr>\n",
              "      <th>8</th>\n",
              "      <td>0.787926</td>\n",
              "      <td>0.905838</td>\n",
              "      <td>0.08</td>\n",
              "    </tr>\n",
              "    <tr>\n",
              "      <th>9</th>\n",
              "      <td>0.836931</td>\n",
              "      <td>0.896982</td>\n",
              "      <td>0.09</td>\n",
              "    </tr>\n",
              "    <tr>\n",
              "      <th>10</th>\n",
              "      <td>0.869657</td>\n",
              "      <td>0.889933</td>\n",
              "      <td>0.10</td>\n",
              "    </tr>\n",
              "  </tbody>\n",
              "</table>\n",
              "</div>"
            ],
            "text/plain": [
              "    precision    recall  threshold\n",
              "0    0.118661  1.000000       0.00\n",
              "1    0.189062  0.998102       0.01\n",
              "2    0.233053  0.992590       0.02\n",
              "3    0.305130  0.979939       0.03\n",
              "4    0.403151  0.962046       0.04\n",
              "5    0.517055  0.943792       0.05\n",
              "6    0.625822  0.928610       0.06\n",
              "7    0.716773  0.915236       0.07\n",
              "8    0.787926  0.905838       0.08\n",
              "9    0.836931  0.896982       0.09\n",
              "10   0.869657  0.889933       0.10"
            ]
          },
          "execution_count": 75,
          "metadata": {},
          "output_type": "execute_result"
        }
      ],
      "source": [
        "df_dict = {\n",
        "    'precision':precision_scores,\n",
        "    'recall':recall_scores,\n",
        "    'threshold':thresholds\n",
        "}\n",
        "\n",
        "df_pr = pd.DataFrame(df_dict)\n",
        "df_pr.head(11)"
      ]
    }
  ],
  "metadata": {
    "colab": {
      "collapsed_sections": [
        "BnvTCG5-O_qY",
        "nlCU5le2PLKh",
        "1pL4SAFWPRnF",
        "pT18pePyP3l1",
        "1gb14QRyQtjc"
      ],
      "name": "credit-risk-modelling.ipynb",
      "provenance": []
    },
    "kernelspec": {
      "display_name": "Python 3.9.6 64-bit",
      "language": "python",
      "name": "python3"
    },
    "language_info": {
      "codemirror_mode": {
        "name": "ipython",
        "version": 3
      },
      "file_extension": ".py",
      "mimetype": "text/x-python",
      "name": "python",
      "nbconvert_exporter": "python",
      "pygments_lexer": "ipython3",
      "version": "3.9.6"
    },
    "vscode": {
      "interpreter": {
        "hash": "b671c20432fcd147198c92e7f072af9e705f087eb990bee22b07f08caab9f630"
      }
    }
  },
  "nbformat": 4,
  "nbformat_minor": 0
}
